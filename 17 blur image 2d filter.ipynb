{
 "cells": [
  {
   "cell_type": "code",
   "execution_count": 1,
   "id": "0c1556dd",
   "metadata": {},
   "outputs": [],
   "source": [
    "import cv2\n",
    "import numpy as  np"
   ]
  },
  {
   "cell_type": "code",
   "execution_count": 2,
   "id": "4bd6d2e8",
   "metadata": {},
   "outputs": [],
   "source": [
    "# show image\n",
    "img_path = r\"C:\\Users\\photos\\portrait-2865605_1920.jpg\"\n",
    "\n",
    "img = cv2.imread(img_path)\n",
    "img = cv2.resize(img, (1280, 720))\n",
    "\n",
    "cv2.imshow(\"Model Image\", img)\n",
    "\n",
    "cv2.waitKey(0)\n",
    "cv2.destroyAllWindows()"
   ]
  },
  {
   "cell_type": "markdown",
   "id": "f4b10d56",
   "metadata": {},
   "source": [
    "# Blur image using filter2D with 3*3 kernel"
   ]
  },
  {
   "cell_type": "code",
   "execution_count": 5,
   "id": "33d6a832",
   "metadata": {},
   "outputs": [],
   "source": [
    "one_mat_3_3 = np.ones((3,3), dtype = np.float32)/9\n",
    "\n",
    "# filter2D(src, ddepth, kernel[, dst[, anchor[, delta[, borderType]]]]) -> dst\n",
    "blur_img_3_3 = cv2.filter2D(img, -1, one_mat_3_3)\n",
    "\n",
    "cv2.imshow(\"Blur Image 3x3\", blur_img_3_3)\n",
    "cv2.imshow(\"Original Image\", img)\n",
    "\n",
    "\n",
    "cv2.waitKey(0)\n",
    "cv2.destroyAllWindows()\n",
    "# one_mat_3_3"
   ]
  },
  {
   "cell_type": "markdown",
   "id": "ea9e508b",
   "metadata": {},
   "source": [
    "# Blur image using filter2D with 5*5 kernel"
   ]
  },
  {
   "cell_type": "code",
   "execution_count": 7,
   "id": "52dd13d1",
   "metadata": {},
   "outputs": [],
   "source": [
    "one_mat_5_5 = np.ones((5,5), dtype = np.float32)/25\n",
    "\n",
    "# filter2D(src, ddepth, kernel[, dst[, anchor[, delta[, borderType]]]]) -> dst\n",
    "blur_img_5_5 = cv2.filter2D(img, -1, one_mat_5_5)\n",
    "\n",
    "cv2.imshow(\"Blur Image 5x5\", blur_img_5_5)\n",
    "cv2.imshow(\"Original Image\", img)\n",
    "\n",
    "\n",
    "cv2.waitKey(0)\n",
    "cv2.destroyAllWindows()\n",
    "# one_mat_5_5"
   ]
  },
  {
   "cell_type": "markdown",
   "id": "c0a87427",
   "metadata": {},
   "source": [
    "# Blur image using filter2D with 10*10 kernel"
   ]
  },
  {
   "cell_type": "code",
   "execution_count": 8,
   "id": "9e607bfd",
   "metadata": {},
   "outputs": [],
   "source": [
    "one_mat_10_10 = np.ones((10,10), dtype = np.float32)/100\n",
    "\n",
    "# filter2D(src, ddepth, kernel[, dst[, anchor[, delta[, borderType]]]]) -> dst\n",
    "blur_img_10_10 = cv2.filter2D(img, -1, one_mat_10_10)\n",
    "\n",
    "cv2.imshow(\"Blur Image 10x10\", blur_img_10_10)\n",
    "cv2.imshow(\"Original Image\", img)\n",
    "\n",
    "\n",
    "cv2.waitKey(0)\n",
    "cv2.destroyAllWindows()\n",
    "# one_mat_10_10"
   ]
  },
  {
   "cell_type": "markdown",
   "id": "0fe24688",
   "metadata": {},
   "source": [
    "# Blur image using filter2D with 50*50 kernel"
   ]
  },
  {
   "cell_type": "code",
   "execution_count": 9,
   "id": "c5d582e3",
   "metadata": {},
   "outputs": [],
   "source": [
    "one_mat_50_50 = np.ones((50,50), dtype = np.float32)/2500\n",
    "\n",
    "# filter2D(src, ddepth, kernel[, dst[, anchor[, delta[, borderType]]]]) -> dst\n",
    "blur_img_50_50 = cv2.filter2D(img, -1, one_mat_50_50)\n",
    "\n",
    "cv2.imshow(\"Blur Image 50x50\", blur_img_50_50)\n",
    "cv2.imshow(\"Original Image\", img)\n",
    "\n",
    "\n",
    "cv2.waitKey(0)\n",
    "cv2.destroyAllWindows()\n",
    "# one_mat_50_50"
   ]
  },
  {
   "cell_type": "markdown",
   "id": "0c3ccef4",
   "metadata": {},
   "source": [
    "# Blur image using filter2D with 100*100 kernel"
   ]
  },
  {
   "cell_type": "code",
   "execution_count": 10,
   "id": "9b4d58ad",
   "metadata": {},
   "outputs": [],
   "source": [
    "one_mat_100_100 = np.ones((100,100), dtype = np.float32)/10000\n",
    "\n",
    "# filter2D(src, ddepth, kernel[, dst[, anchor[, delta[, borderType]]]]) -> dst\n",
    "blur_img_100_100 = cv2.filter2D(img, -1, one_mat_100_100)\n",
    "\n",
    "cv2.imshow(\"Blur Image 100x100\", blur_img_100_100)\n",
    "cv2.imshow(\"Original Image\", img)\n",
    "\n",
    "\n",
    "cv2.waitKey(0)\n",
    "cv2.destroyAllWindows()\n",
    "# one_mat_100_100"
   ]
  },
  {
   "cell_type": "markdown",
   "id": "14d083bb",
   "metadata": {},
   "source": [
    "# show all results in single window (images)"
   ]
  },
  {
   "cell_type": "code",
   "execution_count": 11,
   "id": "8613be24",
   "metadata": {},
   "outputs": [],
   "source": [
    "img = cv2.resize(img, (400, 350))\n",
    "blur_img_3_3 = cv2.resize(blur_img_3_3, (400, 350))\n",
    "blur_img_5_5 = cv2.resize(blur_img_5_5, (400, 350))\n",
    "blur_img_10_10 = cv2.resize(blur_img_10_10, (400, 350))\n",
    "blur_img_50_50 = cv2.resize(blur_img_50_50, (400, 350))\n",
    "blur_img_100_100 = cv2.resize(blur_img_100_100, (400, 350))\n",
    "\n",
    "cv2.putText(img, \"Original\", org=(20,40), fontFace = cv2.FONT_HERSHEY_PLAIN, fontScale=2, color=(0,0,255))\n",
    "cv2.putText(blur_img_3_3, \"3x3 Filter\", org=(20,40), fontFace = cv2.FONT_HERSHEY_PLAIN, fontScale=2, color=(0,0,255))\n",
    "cv2.putText(blur_img_5_5, \"5x5 Filter\", org=(20,40), fontFace = cv2.FONT_HERSHEY_PLAIN, fontScale=2, color=(0,0,255))\n",
    "cv2.putText(blur_img_10_10, \"10x10 Filter\", org=(20,40), fontFace = cv2.FONT_HERSHEY_PLAIN, fontScale=2, color=(0,0,255))\n",
    "cv2.putText(blur_img_50_50, \"50x50 Filter\", org=(20,40), fontFace = cv2.FONT_HERSHEY_PLAIN, fontScale=2, color=(0,0,255))\n",
    "cv2.putText(blur_img_100_100, \"100x100 Filter\", org=(20,40), fontFace = cv2.FONT_HERSHEY_PLAIN, fontScale=2, color=(0,0,255))\n",
    "\n",
    "\n",
    "img1_3 = np.hstack((img, blur_img_3_3, blur_img_5_5))\n",
    "img2_3 = np.hstack((blur_img_10_10, blur_img_50_50, blur_img_100_100))\n",
    "\n",
    "img3_6 = np.vstack((img1_3, img2_3))\n",
    "\n",
    "cv2.imshow(\"1 original and 5 blur image\", img3_6)\n",
    "cv2.waitKey(0)\n",
    "cv2.destroyAllWindows()"
   ]
  },
  {
   "cell_type": "code",
   "execution_count": null,
   "id": "7f8c4f3f",
   "metadata": {},
   "outputs": [],
   "source": []
  },
  {
   "cell_type": "code",
   "execution_count": null,
   "id": "7d9fa20d",
   "metadata": {},
   "outputs": [],
   "source": []
  },
  {
   "cell_type": "code",
   "execution_count": null,
   "id": "c525a3bf",
   "metadata": {},
   "outputs": [],
   "source": []
  },
  {
   "cell_type": "code",
   "execution_count": null,
   "id": "44f218d7",
   "metadata": {},
   "outputs": [],
   "source": []
  },
  {
   "cell_type": "code",
   "execution_count": null,
   "id": "4754404e",
   "metadata": {},
   "outputs": [],
   "source": []
  },
  {
   "cell_type": "code",
   "execution_count": null,
   "id": "174b915b",
   "metadata": {},
   "outputs": [],
   "source": []
  }
 ],
 "metadata": {
  "kernelspec": {
   "display_name": "Python 3",
   "language": "python",
   "name": "python3"
  },
  "language_info": {
   "codemirror_mode": {
    "name": "ipython",
    "version": 3
   },
   "file_extension": ".py",
   "mimetype": "text/x-python",
   "name": "python",
   "nbconvert_exporter": "python",
   "pygments_lexer": "ipython3",
   "version": "3.7.11"
  }
 },
 "nbformat": 4,
 "nbformat_minor": 5
}
