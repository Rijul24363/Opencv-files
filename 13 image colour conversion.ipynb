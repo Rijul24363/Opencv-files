{
 "cells": [
  {
   "cell_type": "markdown",
   "id": "2709e9f6",
   "metadata": {},
   "source": [
    "# How to convert color using cv2.cvtColor() function"
   ]
  },
  {
   "cell_type": "code",
   "execution_count": 1,
   "id": "906068b2",
   "metadata": {},
   "outputs": [],
   "source": [
    "# show image"
   ]
  },
  {
   "cell_type": "code",
   "execution_count": 2,
   "id": "2b15984f",
   "metadata": {},
   "outputs": [],
   "source": [
    "import cv2"
   ]
  },
  {
   "cell_type": "code",
   "execution_count": 3,
   "id": "18069768",
   "metadata": {},
   "outputs": [],
   "source": [
    "img_path = r\"C:\\Users\\photos\\business-woman-2071342_1920.jpg\"\n",
    "\n",
    "img = cv2.imread(img_path)\n",
    "img_resize = cv2.resize(img, (1280, 720))\n",
    "\n",
    "cv2.imshow(\"Image\", img_resize)\n",
    "cv2.waitKey(0)\n",
    "cv2.destroyAllWindows()"
   ]
  },
  {
   "cell_type": "code",
   "execution_count": 4,
   "id": "81d500c5",
   "metadata": {},
   "outputs": [
    {
     "data": {
      "text/plain": [
       "(720, 1280, 3)"
      ]
     },
     "execution_count": 4,
     "metadata": {},
     "output_type": "execute_result"
    }
   ],
   "source": [
    "img_resize.shape   # 720 is height, 1280 is width, 3 is channel"
   ]
  },
  {
   "cell_type": "code",
   "execution_count": 5,
   "id": "50b05556",
   "metadata": {},
   "outputs": [
    {
     "data": {
      "text/plain": [
       "array([[172, 172, 172, ..., 199, 199, 199],\n",
       "       [172, 172, 172, ..., 199, 199, 199],\n",
       "       [173, 172, 172, ..., 199, 199, 199],\n",
       "       ...,\n",
       "       [163, 163, 163, ..., 167, 166, 166],\n",
       "       [163, 163, 163, ..., 167, 166, 166],\n",
       "       [162, 162, 162, ..., 166, 166, 165]], dtype=uint8)"
      ]
     },
     "execution_count": 5,
     "metadata": {},
     "output_type": "execute_result"
    }
   ],
   "source": [
    "img_resize[:, :, 0]   # 0 means blue array"
   ]
  },
  {
   "cell_type": "code",
   "execution_count": 6,
   "id": "dd42f7f7",
   "metadata": {},
   "outputs": [
    {
     "data": {
      "text/plain": [
       "array([[166, 166, 166, ..., 190, 190, 190],\n",
       "       [166, 166, 166, ..., 190, 190, 190],\n",
       "       [167, 166, 166, ..., 190, 190, 190],\n",
       "       ...,\n",
       "       [159, 159, 159, ..., 161, 160, 160],\n",
       "       [159, 159, 159, ..., 161, 160, 160],\n",
       "       [159, 159, 159, ..., 160, 160, 159]], dtype=uint8)"
      ]
     },
     "execution_count": 6,
     "metadata": {},
     "output_type": "execute_result"
    }
   ],
   "source": [
    "img_resize[:, :, 1]   # 1 is for green"
   ]
  },
  {
   "cell_type": "code",
   "execution_count": 8,
   "id": "9fed3d5e",
   "metadata": {},
   "outputs": [
    {
     "data": {
      "text/plain": [
       "array([[153, 153, 153, ..., 177, 177, 177],\n",
       "       [153, 153, 153, ..., 177, 177, 177],\n",
       "       [154, 153, 153, ..., 177, 177, 177],\n",
       "       ...,\n",
       "       [148, 148, 148, ..., 148, 147, 147],\n",
       "       [148, 148, 148, ..., 148, 147, 147],\n",
       "       [146, 146, 146, ..., 147, 147, 147]], dtype=uint8)"
      ]
     },
     "execution_count": 8,
     "metadata": {},
     "output_type": "execute_result"
    }
   ],
   "source": [
    "img_resize[:, :, 2]  # 2 is for red"
   ]
  },
  {
   "cell_type": "markdown",
   "id": "bc540c51",
   "metadata": {},
   "source": [
    "# Convert color image to gray"
   ]
  },
  {
   "cell_type": "code",
   "execution_count": 9,
   "id": "8ab66d0a",
   "metadata": {},
   "outputs": [],
   "source": [
    "img_path = r\"C:\\Users\\photos\\business-woman-2071342_1920.jpg\"\n",
    "\n",
    "img = cv2.imread(img_path)\n",
    "img_resize = cv2.resize(img, (1280, 720))\n",
    "\n",
    "\n",
    "\n",
    "# cvtColor(src, code[, dst[, dstCn]]) -> dst\n",
    "img_gray = cv2.cvtColor(img_resize, cv2.COLOR_BGR2GRAY)   # this is for convert gray color\n",
    "\n",
    "cv2.imshow(\"Image Gray\", img_gray)\n",
    "cv2.waitKey(0)\n",
    "cv2.destroyAllWindows()"
   ]
  },
  {
   "cell_type": "code",
   "execution_count": 11,
   "id": "6c8746e5",
   "metadata": {},
   "outputs": [],
   "source": [
    "# we can use diff colors\n",
    "\n",
    "img_path = r\"C:\\Users\\photos\\business-woman-2071342_1920.jpg\"\n",
    "\n",
    "img = cv2.imread(img_path)\n",
    "img_resize = cv2.resize(img, (1280, 720))\n",
    "\n",
    "\n",
    "\n",
    "# cvtColor(src, code[, dst[, dstCn]]) -> dst\n",
    "img_gray = cv2.cvtColor(img_resize, cv2.COLOR_BGR2YCrCb)  # we can use diff diff colors for image & we can see these diff colors by press tab button after BGR2.\n",
    "\n",
    "cv2.imshow(\"Image Gray\", img_gray)\n",
    "cv2.waitKey(0)\n",
    "cv2.destroyAllWindows()"
   ]
  },
  {
   "cell_type": "code",
   "execution_count": 12,
   "id": "00befd46",
   "metadata": {},
   "outputs": [
    {
     "data": {
      "text/plain": [
       "36"
      ]
     },
     "execution_count": 12,
     "metadata": {},
     "output_type": "execute_result"
    }
   ],
   "source": [
    "cv2.COLOR_BGR2YCrCb"
   ]
  },
  {
   "cell_type": "code",
   "execution_count": null,
   "id": "a877d7b2",
   "metadata": {},
   "outputs": [],
   "source": []
  },
  {
   "cell_type": "code",
   "execution_count": null,
   "id": "d01daa98",
   "metadata": {},
   "outputs": [],
   "source": []
  },
  {
   "cell_type": "code",
   "execution_count": 18,
   "id": "f365dbe7",
   "metadata": {},
   "outputs": [
    {
     "name": "stdout",
     "output_type": "stream",
     "text": [
      "Color number:  2\n",
      "Color number:  3\n",
      "Color number:  4\n",
      "Color number:  134\n",
      "Color number:  130\n",
      "Color number:  130\n",
      "Color number:  16\n"
     ]
    },
    {
     "ename": "error",
     "evalue": "OpenCV(3.4.2) C:\\Miniconda3\\conda-bld\\opencv-suite_1534379934306\\work\\modules\\imgcodecs\\src\\utils.cpp:622: error: (-15:Bad number of channels) Source image must have 1, 3 or 4 channels in function 'cvConvertImage'\n",
     "output_type": "error",
     "traceback": [
      "\u001b[1;31m---------------------------------------------------------------------------\u001b[0m",
      "\u001b[1;31merror\u001b[0m                                     Traceback (most recent call last)",
      "\u001b[1;32m<ipython-input-18-d3f4aeaf6553>\u001b[0m in \u001b[0;36m<module>\u001b[1;34m\u001b[0m\n\u001b[0;32m     17\u001b[0m     \u001b[0mcolor_image\u001b[0m \u001b[1;33m=\u001b[0m \u001b[0mcv2\u001b[0m\u001b[1;33m.\u001b[0m\u001b[0mcvtColor\u001b[0m\u001b[1;33m(\u001b[0m\u001b[0mimg_resize\u001b[0m\u001b[1;33m,\u001b[0m \u001b[0mcolor_number\u001b[0m\u001b[1;33m)\u001b[0m\u001b[1;33m\u001b[0m\u001b[1;33m\u001b[0m\u001b[0m\n\u001b[0;32m     18\u001b[0m \u001b[1;33m\u001b[0m\u001b[0m\n\u001b[1;32m---> 19\u001b[1;33m     \u001b[0mcv2\u001b[0m\u001b[1;33m.\u001b[0m\u001b[0mimshow\u001b[0m\u001b[1;33m(\u001b[0m\u001b[1;34mf\"Image of Color number *{color_number}*\"\u001b[0m\u001b[1;33m,\u001b[0m \u001b[0mcolor_image\u001b[0m\u001b[1;33m)\u001b[0m\u001b[1;33m\u001b[0m\u001b[1;33m\u001b[0m\u001b[0m\n\u001b[0m\u001b[0;32m     20\u001b[0m \u001b[1;33m\u001b[0m\u001b[0m\n\u001b[0;32m     21\u001b[0m     \u001b[0mcv2\u001b[0m\u001b[1;33m.\u001b[0m\u001b[0mwaitKey\u001b[0m\u001b[1;33m(\u001b[0m\u001b[1;36m2000\u001b[0m\u001b[1;33m)\u001b[0m \u001b[1;31m# pause for 3 sec before fetching next image\u001b[0m\u001b[1;33m\u001b[0m\u001b[1;33m\u001b[0m\u001b[0m\n",
      "\u001b[1;31merror\u001b[0m: OpenCV(3.4.2) C:\\Miniconda3\\conda-bld\\opencv-suite_1534379934306\\work\\modules\\imgcodecs\\src\\utils.cpp:622: error: (-15:Bad number of channels) Source image must have 1, 3 or 4 channels in function 'cvConvertImage'\n"
     ]
    }
   ],
   "source": [
    "img_path = r\"C:\\Users\\photos\\business-woman-2071342_1920.jpg\"\n",
    "\n",
    "img = cv2.imread(img_path)\n",
    "img_resize = cv2.resize(img, (1280, 720))\n",
    "\n",
    "# each item has int value\n",
    "\n",
    "colors_name = [cv2.COLOR_BGR2RGBA, cv2.COLOR_BGRA2RGB, cv2.COLOR_BGR2RGB, cv2.COLOR_BGRA2YUV_YV12, \\\n",
    "    cv2.COLOR_BGRA2YUV_IYUV, cv2.COLOR_BGRA2YUV_I420, cv2.COLOR_BGRA2BGR565, cv2.COLOR_BGRA2BGR555, \\\n",
    "    cv2.COLOR_BGRA2BGR, cv2.COLOR_BGR5652RGBA, cv2.COLOR_BGR5652RGB, cv2.COLOR_BGR5552RGBA, cv2.COLOR_BGR2YUV, \\\n",
    "    cv2.COLOR_BGR2HLS, cv2.COLOR_BGR2HLS_FULL, cv2.COLOR_BGR2HSV, cv2.COLOR_BGR2LAB, cv2.COLOR_BGR2LUV, \\\n",
    "    cv2.COLOR_BGR2YCR_CB, cv2.COLOR_BGR2XYZ, cv2.COLOR_BGRA2BGR]\n",
    "\n",
    "for color_number in colors_name:\n",
    "    print(\"Color number: \", color_number)\n",
    "    \n",
    "    color_image = cv2.cvtColor(img_resize, color_number)\n",
    "    \n",
    "    cv2.imshow(f\"Image of Color number *{color_number}*\", color_image)\n",
    "    \n",
    "    cv2.waitKey(2000) # pause for 3 sec before fetching next image\n",
    "    cv2.destroyAllWindows()\n",
    "     "
   ]
  },
  {
   "cell_type": "code",
   "execution_count": null,
   "id": "c2a824f1",
   "metadata": {},
   "outputs": [],
   "source": []
  }
 ],
 "metadata": {
  "kernelspec": {
   "display_name": "Python 3",
   "language": "python",
   "name": "python3"
  },
  "language_info": {
   "codemirror_mode": {
    "name": "ipython",
    "version": 3
   },
   "file_extension": ".py",
   "mimetype": "text/x-python",
   "name": "python",
   "nbconvert_exporter": "python",
   "pygments_lexer": "ipython3",
   "version": "3.7.11"
  }
 },
 "nbformat": 4,
 "nbformat_minor": 5
}
