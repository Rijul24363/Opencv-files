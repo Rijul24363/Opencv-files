{
 "cells": [
  {
   "cell_type": "markdown",
   "id": "2b3ca868",
   "metadata": {},
   "source": [
    "# How to split image in single channel & merge multiple single channel  "
   ]
  },
  {
   "cell_type": "code",
   "execution_count": 1,
   "id": "b682c687",
   "metadata": {},
   "outputs": [],
   "source": [
    "import cv2\n",
    "import numpy as np"
   ]
  },
  {
   "cell_type": "code",
   "execution_count": 3,
   "id": "297f19dc",
   "metadata": {},
   "outputs": [],
   "source": [
    "img_path = r\"C:\\Users\\photos\\beautiful-1434835_1920.jpg\"\n",
    "\n",
    "img = cv2.imread(img_path)\n",
    "img = cv2.resize(img, (1280, 720))\n",
    "\n",
    "cv2.imshow(\"Model Image\", img)\n",
    "cv2.waitKey(0)\n",
    "cv2.destroyAllWindows()"
   ]
  },
  {
   "cell_type": "markdown",
   "id": "2ac3132b",
   "metadata": {},
   "source": [
    "# Split image using numpy indexing"
   ]
  },
  {
   "cell_type": "code",
   "execution_count": 4,
   "id": "a5875b12",
   "metadata": {},
   "outputs": [
    {
     "data": {
      "text/plain": [
       "array([[[106,  88,  75],\n",
       "        [106,  88,  75],\n",
       "        [106,  88,  75],\n",
       "        ...,\n",
       "        [101,  79,  68],\n",
       "        [101,  79,  67],\n",
       "        [102,  80,  68]],\n",
       "\n",
       "       [[106,  87,  74],\n",
       "        [106,  87,  74],\n",
       "        [106,  87,  74],\n",
       "        ...,\n",
       "        [102,  80,  68],\n",
       "        [102,  80,  68],\n",
       "        [103,  81,  69]],\n",
       "\n",
       "       [[106,  87,  74],\n",
       "        [106,  87,  74],\n",
       "        [106,  87,  74],\n",
       "        ...,\n",
       "        [102,  80,  68],\n",
       "        [102,  80,  68],\n",
       "        [103,  81,  69]],\n",
       "\n",
       "       ...,\n",
       "\n",
       "       [[ 90, 139, 219],\n",
       "        [ 90, 139, 219],\n",
       "        [ 90, 139, 219],\n",
       "        ...,\n",
       "        [  8,  17,  44],\n",
       "        [  8,  17,  44],\n",
       "        [  8,  17,  44]],\n",
       "\n",
       "       [[ 93, 142, 222],\n",
       "        [ 93, 142, 222],\n",
       "        [ 92, 141, 221],\n",
       "        ...,\n",
       "        [  7,  16,  43],\n",
       "        [  8,  17,  44],\n",
       "        [  9,  18,  45]],\n",
       "\n",
       "       [[ 95, 144, 224],\n",
       "        [ 93, 142, 222],\n",
       "        [ 92, 141, 221],\n",
       "        ...,\n",
       "        [  8,  17,  44],\n",
       "        [  9,  18,  45],\n",
       "        [  8,  17,  44]]], dtype=uint8)"
      ]
     },
     "execution_count": 4,
     "metadata": {},
     "output_type": "execute_result"
    }
   ],
   "source": [
    "img"
   ]
  },
  {
   "cell_type": "code",
   "execution_count": 5,
   "id": "49cf4255",
   "metadata": {},
   "outputs": [
    {
     "data": {
      "text/plain": [
       "(720, 1280, 3)"
      ]
     },
     "execution_count": 5,
     "metadata": {},
     "output_type": "execute_result"
    }
   ],
   "source": [
    "img.shape"
   ]
  },
  {
   "cell_type": "code",
   "execution_count": 6,
   "id": "92c98e18",
   "metadata": {},
   "outputs": [
    {
     "data": {
      "text/plain": [
       "array([[106, 106, 106, ..., 101, 101, 102],\n",
       "       [106, 106, 106, ..., 102, 102, 103],\n",
       "       [106, 106, 106, ..., 102, 102, 103],\n",
       "       ...,\n",
       "       [ 90,  90,  90, ...,   8,   8,   8],\n",
       "       [ 93,  93,  92, ...,   7,   8,   9],\n",
       "       [ 95,  93,  92, ...,   8,   9,   8]], dtype=uint8)"
      ]
     },
     "execution_count": 6,
     "metadata": {},
     "output_type": "execute_result"
    }
   ],
   "source": [
    "img[:, :, 0]    # : 1st is for it means all rows, : 2 colon is for it means all columns, b=0, g=1, r=2."
   ]
  },
  {
   "cell_type": "code",
   "execution_count": 7,
   "id": "4f65e527",
   "metadata": {},
   "outputs": [
    {
     "data": {
      "text/plain": [
       "array([[ 88,  88,  88, ...,  79,  79,  80],\n",
       "       [ 87,  87,  87, ...,  80,  80,  81],\n",
       "       [ 87,  87,  87, ...,  80,  80,  81],\n",
       "       ...,\n",
       "       [139, 139, 139, ...,  17,  17,  17],\n",
       "       [142, 142, 141, ...,  16,  17,  18],\n",
       "       [144, 142, 141, ...,  17,  18,  17]], dtype=uint8)"
      ]
     },
     "execution_count": 7,
     "metadata": {},
     "output_type": "execute_result"
    }
   ],
   "source": [
    "img[:, :, 1] "
   ]
  },
  {
   "cell_type": "code",
   "execution_count": 8,
   "id": "fb283dcf",
   "metadata": {},
   "outputs": [
    {
     "data": {
      "text/plain": [
       "array([[ 75,  75,  75, ...,  68,  67,  68],\n",
       "       [ 74,  74,  74, ...,  68,  68,  69],\n",
       "       [ 74,  74,  74, ...,  68,  68,  69],\n",
       "       ...,\n",
       "       [219, 219, 219, ...,  44,  44,  44],\n",
       "       [222, 222, 221, ...,  43,  44,  45],\n",
       "       [224, 222, 221, ...,  44,  45,  44]], dtype=uint8)"
      ]
     },
     "execution_count": 8,
     "metadata": {},
     "output_type": "execute_result"
    }
   ],
   "source": [
    "img[:, :, 2] "
   ]
  },
  {
   "cell_type": "markdown",
   "id": "e7716b44",
   "metadata": {},
   "source": [
    "# split image using cv2.split()"
   ]
  },
  {
   "cell_type": "code",
   "execution_count": 9,
   "id": "e7fe1c92",
   "metadata": {},
   "outputs": [],
   "source": [
    "#split(m[, mv]) -> mv\n",
    "b, g, r = cv2.split(img)"
   ]
  },
  {
   "cell_type": "code",
   "execution_count": 10,
   "id": "e4ee82fc",
   "metadata": {},
   "outputs": [
    {
     "data": {
      "text/plain": [
       "array([[106, 106, 106, ..., 101, 101, 102],\n",
       "       [106, 106, 106, ..., 102, 102, 103],\n",
       "       [106, 106, 106, ..., 102, 102, 103],\n",
       "       ...,\n",
       "       [ 90,  90,  90, ...,   8,   8,   8],\n",
       "       [ 93,  93,  92, ...,   7,   8,   9],\n",
       "       [ 95,  93,  92, ...,   8,   9,   8]], dtype=uint8)"
      ]
     },
     "execution_count": 10,
     "metadata": {},
     "output_type": "execute_result"
    }
   ],
   "source": [
    "b"
   ]
  },
  {
   "cell_type": "code",
   "execution_count": 11,
   "id": "4885a112",
   "metadata": {},
   "outputs": [
    {
     "data": {
      "text/plain": [
       "(720, 1280)"
      ]
     },
     "execution_count": 11,
     "metadata": {},
     "output_type": "execute_result"
    }
   ],
   "source": [
    "b.shape"
   ]
  },
  {
   "cell_type": "code",
   "execution_count": 13,
   "id": "7158c39c",
   "metadata": {},
   "outputs": [
    {
     "data": {
      "text/plain": [
       "(720, 1280)"
      ]
     },
     "execution_count": 13,
     "metadata": {},
     "output_type": "execute_result"
    }
   ],
   "source": [
    "g.shape"
   ]
  },
  {
   "cell_type": "code",
   "execution_count": 14,
   "id": "2381ba6b",
   "metadata": {},
   "outputs": [
    {
     "data": {
      "text/plain": [
       "(720, 1280)"
      ]
     },
     "execution_count": 14,
     "metadata": {},
     "output_type": "execute_result"
    }
   ],
   "source": [
    "r.shape"
   ]
  },
  {
   "cell_type": "markdown",
   "id": "c5692f6a",
   "metadata": {},
   "source": [
    "# Time calculation to split image"
   ]
  },
  {
   "cell_type": "code",
   "execution_count": 16,
   "id": "2b9a3c97",
   "metadata": {},
   "outputs": [
    {
     "name": "stdout",
     "output_type": "stream",
     "text": [
      "Total time taken to split 100 images:  0.638371467590332\n"
     ]
    }
   ],
   "source": [
    "import time\n",
    "\n",
    "start_time = time.time()\n",
    "\n",
    "for i in range(100):\n",
    "    r, g, r = cv2.split(img)\n",
    "    \n",
    "end_time = time.time()\n",
    "\n",
    "print(\"Total time taken to split 100 images: \", end_time - start_time)"
   ]
  },
  {
   "cell_type": "markdown",
   "id": "450a47f8",
   "metadata": {},
   "source": [
    "# Total calculation to split numpy indexing "
   ]
  },
  {
   "cell_type": "code",
   "execution_count": 17,
   "id": "311deb5d",
   "metadata": {},
   "outputs": [
    {
     "name": "stdout",
     "output_type": "stream",
     "text": [
      "Total time taken to split 100 images:  0.0\n"
     ]
    }
   ],
   "source": [
    "import time\n",
    "\n",
    "start_time = time.time()\n",
    "\n",
    "for i in range(100):\n",
    "    b = img[:, :, 0]\n",
    "    g = img[:, :, 1]\n",
    "    r = img[:, :, 2]\n",
    "    \n",
    "end_time = time.time()\n",
    "\n",
    "print(\"Total time taken to split 100 images: \", end_time - start_time)  # numpy indexing is fast instead of split image."
   ]
  },
  {
   "cell_type": "code",
   "execution_count": 18,
   "id": "0a21df60",
   "metadata": {},
   "outputs": [
    {
     "data": {
      "text/plain": [
       "0.638371467590332"
      ]
     },
     "execution_count": 18,
     "metadata": {},
     "output_type": "execute_result"
    }
   ],
   "source": [
    "0.638371467590332 -  0.0"
   ]
  },
  {
   "cell_type": "markdown",
   "id": "aa51c8e8",
   "metadata": {},
   "source": [
    "# show single channel"
   ]
  },
  {
   "cell_type": "code",
   "execution_count": 20,
   "id": "f6230a16",
   "metadata": {},
   "outputs": [],
   "source": [
    "## show single channels.\n",
    "\n",
    "img_path = r\"C:\\Users\\photos\\beautiful-1434835_1920.jpg\"\n",
    "\n",
    "img = cv2.imread(img_path)\n",
    "img = cv2.resize(img, (400, 400))\n",
    "\n",
    "cv2.imshow(\"Model Blue Image\", img[:, :, 0])\n",
    "\n",
    "cv2.waitKey(0)\n",
    "cv2.destroyAllWindows()"
   ]
  },
  {
   "cell_type": "code",
   "execution_count": 21,
   "id": "40e927ba",
   "metadata": {},
   "outputs": [],
   "source": [
    "# now we can see chaneel using split function."
   ]
  },
  {
   "cell_type": "code",
   "execution_count": 22,
   "id": "685b16bb",
   "metadata": {},
   "outputs": [],
   "source": [
    "img_path = r\"C:\\Users\\photos\\beautiful-1434835_1920.jpg\"\n",
    "\n",
    "img = cv2.imread(img_path)\n",
    "img = cv2.resize(img, (400, 400))\n",
    "\n",
    "b, g, r = cv2.split(img)\n",
    "\n",
    "cv2.imshow(\"Model Blue Image\", b)\n",
    "\n",
    "\n",
    "cv2.waitKey(0)\n",
    "cv2.destroyAllWindows()"
   ]
  },
  {
   "cell_type": "markdown",
   "id": "feef881b",
   "metadata": {},
   "source": [
    "# show multiple channels"
   ]
  },
  {
   "cell_type": "code",
   "execution_count": null,
   "id": "d1f82a88",
   "metadata": {},
   "outputs": [],
   "source": [
    "img_path = r\"C:\\Users\\photos\\beautiful-1434835_1920.jpg\"\n",
    "\n",
    "img = cv2.imread(img_path)\n",
    "img = cv2.resize(img, (400, 400))\n",
    "\n",
    "cv2.imshow(\"Model Blue Image\", img[:, :, 0])\n",
    "cv2.imshow(\"Model Green Image\", img[:, :, 1])\n",
    "cv2.imshow(\"Model Red Image\", img[:, :, 2])\n",
    "\n",
    "cv2.waitKey(0)\n",
    "cv2.destroyAllWindows()"
   ]
  },
  {
   "cell_type": "code",
   "execution_count": null,
   "id": "8995b131",
   "metadata": {},
   "outputs": [],
   "source": [
    "# now we can see multiple channels using split function."
   ]
  },
  {
   "cell_type": "code",
   "execution_count": 23,
   "id": "6b5219a3",
   "metadata": {},
   "outputs": [],
   "source": [
    "img_path = r\"C:\\Users\\photos\\beautiful-1434835_1920.jpg\"\n",
    "\n",
    "img = cv2.imread(img_path)\n",
    "img = cv2.resize(img, (400, 400))\n",
    "\n",
    "b, g, r = cv2.split(img)\n",
    "\n",
    "cv2.imshow(\"Model Blue Image\", b)\n",
    "cv2.imshow(\"Model Green Image\", g)\n",
    "cv2.imshow(\"Model Red Image\", r)\n",
    "\n",
    "cv2.waitKey(0)\n",
    "cv2.destroyAllWindows()"
   ]
  },
  {
   "cell_type": "markdown",
   "id": "0e1c7af8",
   "metadata": {},
   "source": [
    "# Merge image"
   ]
  },
  {
   "cell_type": "code",
   "execution_count": 25,
   "id": "dc04485d",
   "metadata": {},
   "outputs": [
    {
     "data": {
      "text/plain": [
       "array([[[106,  87,  74],\n",
       "        [105,  87,  76],\n",
       "        [105,  87,  78],\n",
       "        ...,\n",
       "        [103,  81,  70],\n",
       "        [103,  81,  69],\n",
       "        [101,  79,  67]],\n",
       "\n",
       "       [[105,  87,  74],\n",
       "        [105,  86,  75],\n",
       "        [106,  87,  79],\n",
       "        ...,\n",
       "        [103,  81,  69],\n",
       "        [103,  81,  69],\n",
       "        [102,  80,  68]],\n",
       "\n",
       "       [[105,  86,  73],\n",
       "        [106,  86,  75],\n",
       "        [104,  86,  75],\n",
       "        ...,\n",
       "        [103,  81,  70],\n",
       "        [104,  82,  70],\n",
       "        [103,  81,  70]],\n",
       "\n",
       "       ...,\n",
       "\n",
       "       [[ 93, 142, 222],\n",
       "        [ 90, 139, 219],\n",
       "        [ 89, 138, 218],\n",
       "        ...,\n",
       "        [ 10,  19,  46],\n",
       "        [  8,  17,  44],\n",
       "        [  7,  16,  43]],\n",
       "\n",
       "       [[ 90, 139, 219],\n",
       "        [ 90, 139, 219],\n",
       "        [ 93, 142, 222],\n",
       "        ...,\n",
       "        [  9,  18,  45],\n",
       "        [  7,  16,  43],\n",
       "        [  8,  17,  44]],\n",
       "\n",
       "       [[ 93, 142, 222],\n",
       "        [ 93, 142, 222],\n",
       "        [ 92, 141, 221],\n",
       "        ...,\n",
       "        [  8,  17,  44],\n",
       "        [  9,  19,  46],\n",
       "        [  9,  18,  45]]], dtype=uint8)"
      ]
     },
     "execution_count": 25,
     "metadata": {},
     "output_type": "execute_result"
    }
   ],
   "source": [
    "# merge(mv[, dst]) -> dst\n",
    "img_merge = cv2.merge([b, g, r])\n",
    "img_merge"
   ]
  },
  {
   "cell_type": "code",
   "execution_count": 26,
   "id": "073fd456",
   "metadata": {},
   "outputs": [
    {
     "data": {
      "text/plain": [
       "(400, 400, 3)"
      ]
     },
     "execution_count": 26,
     "metadata": {},
     "output_type": "execute_result"
    }
   ],
   "source": [
    "img_merge.shape"
   ]
  },
  {
   "cell_type": "code",
   "execution_count": 27,
   "id": "e2f3660c",
   "metadata": {},
   "outputs": [],
   "source": [
    "img_path = r\"C:\\Users\\photos\\beautiful-1434835_1920.jpg\"\n",
    "\n",
    "img = cv2.imread(img_path)\n",
    "img = cv2.resize(img, (400, 400))\n",
    "\n",
    "b, g, r = cv2.split(img)\n",
    "\n",
    "img_merge = cv2.merge([b, g, r])\n",
    "\n",
    "cv2.imshow(\"Model Blue Image\", b)\n",
    "cv2.imshow(\"Model Green Image\", g)\n",
    "cv2.imshow(\"Model Red Image\", r)\n",
    "\n",
    "cv2.imshow(\"Merge Model  Image\", img_merge)\n",
    "\n",
    "cv2.waitKey(0)\n",
    "cv2.destroyAllWindows()"
   ]
  },
  {
   "cell_type": "code",
   "execution_count": null,
   "id": "341c15d3",
   "metadata": {},
   "outputs": [],
   "source": []
  },
  {
   "cell_type": "code",
   "execution_count": null,
   "id": "c693966f",
   "metadata": {},
   "outputs": [],
   "source": []
  },
  {
   "cell_type": "code",
   "execution_count": null,
   "id": "4ff6f12d",
   "metadata": {},
   "outputs": [],
   "source": []
  },
  {
   "cell_type": "code",
   "execution_count": null,
   "id": "f1ab9673",
   "metadata": {},
   "outputs": [],
   "source": []
  }
 ],
 "metadata": {
  "kernelspec": {
   "display_name": "Python 3",
   "language": "python",
   "name": "python3"
  },
  "language_info": {
   "codemirror_mode": {
    "name": "ipython",
    "version": 3
   },
   "file_extension": ".py",
   "mimetype": "text/x-python",
   "name": "python",
   "nbconvert_exporter": "python",
   "pygments_lexer": "ipython3",
   "version": "3.7.11"
  }
 },
 "nbformat": 4,
 "nbformat_minor": 5
}
