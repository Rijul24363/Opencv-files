{
 "cells": [
  {
   "cell_type": "code",
   "execution_count": 1,
   "id": "72aafd2b",
   "metadata": {},
   "outputs": [],
   "source": [
    "# importing libraries\n",
    "import cv2\n",
    "import numpy as np\n",
    "import os"
   ]
  },
  {
   "cell_type": "markdown",
   "id": "af5f2c1e",
   "metadata": {},
   "source": [
    "# Draw Ellipse on numpy array and image"
   ]
  },
  {
   "cell_type": "code",
   "execution_count": 2,
   "id": "4b199579",
   "metadata": {},
   "outputs": [],
   "source": [
    "img_path = r\"C:\\Users\\photos\\beautiful-1434835_1920.jpg\"\n",
    "\n",
    "img = cv2.imread(img_path)\n",
    "img_resize = cv2.resize(img, (1280, 720))\n",
    "\n",
    "cv2.imshow(\"Model Image\", img_resize)\n",
    "cv2.waitKey(0)\n",
    "cv2.destroyAllWindows()\n"
   ]
  },
  {
   "cell_type": "markdown",
   "id": "f7bc383c",
   "metadata": {},
   "source": [
    "#  Draw elllipse on image"
   ]
  },
  {
   "cell_type": "code",
   "execution_count": null,
   "id": "c5b0aa08",
   "metadata": {},
   "outputs": [],
   "source": [
    "img_path = r\"C:\\Users\\photos\\beautiful-1434835_1920.jpg\"\n",
    "\n",
    "img = cv2.imread(img_path)\n",
    "img_resize = cv2.resize(img, (1280, 720))\n",
    "\n",
    "center = (500, 230)   #500 is x, 230 is y\n",
    "axes =  (100, 200)   # 100 is x, 200 is y\n",
    "angle = 30\n",
    "startAngle = 0\n",
    "endAngle = 360\n",
    "color = (12, 200, 43)\n",
    "thickness = 4 \n",
    "\n",
    "#ellipse(img, center, axes, angle, startAngle, endAngle, color[, thickness[, lineType[, shift]]]) -> img\n",
    "cv2.ellipse(img_resize, center, axes, angle, startAngle, endAngle, color, thickness)\n",
    "\n",
    "cv2.imshow(\"Model Image\", img_resize)\n",
    "cv2.waitKey(0)\n",
    "cv2.destroyAllWindows()"
   ]
  },
  {
   "cell_type": "markdown",
   "id": "76e7f646",
   "metadata": {},
   "source": [
    "# fill ellipse"
   ]
  },
  {
   "cell_type": "code",
   "execution_count": 5,
   "id": "137b5911",
   "metadata": {},
   "outputs": [],
   "source": [
    "img_path = r\"C:\\Users\\photos\\beautiful-1434835_1920.jpg\"\n",
    "\n",
    "img = cv2.imread(img_path)\n",
    "img_resize = cv2.resize(img, (1280, 720))\n",
    "\n",
    "center = (500, 230)   #500 is x, 230 is y\n",
    "axes =  (100, 200)   # 100 is x, 200 is y\n",
    "angle = 30\n",
    "startAngle = 0\n",
    "endAngle = 360\n",
    "color = (12, 200, 43)\n",
    "thickness = -1       # -1 is for fill the elipse\n",
    "\n",
    "#ellipse(img, center, axes, angle, startAngle, endAngle, color[, thickness[, lineType[, shift]]]) -> img\n",
    "cv2.ellipse(img_resize, center, axes, angle, startAngle, endAngle, color, thickness)\n",
    "\n",
    "cv2.imshow(\"Model Image\", img_resize)\n",
    "cv2.waitKey(0)\n",
    "cv2.destroyAllWindows()"
   ]
  },
  {
   "cell_type": "code",
   "execution_count": 6,
   "id": "8e1080f8",
   "metadata": {},
   "outputs": [],
   "source": [
    "img_path = r\"C:\\Users\\photos\\beautiful-1434835_1920.jpg\"\n",
    "\n",
    "img = cv2.imread(img_path)\n",
    "img_resize = cv2.resize(img, (1280, 720))\n",
    "\n",
    "center = (500, 230)   #500 is x, 230 is y\n",
    "axes =  (100, 200)   # 100 is x, 200 is y\n",
    "angle = 30\n",
    "startAngle = 100\n",
    "endAngle = 360\n",
    "color = (12, 200, 43)\n",
    "thickness = 32       # -1 is for fill the elipse\n",
    "\n",
    "#ellipse(img, center, axes, angle, startAngle, endAngle, color[, thickness[, lineType[, shift]]]) -> img\n",
    "cv2.ellipse(img_resize, center, axes, angle, startAngle, endAngle, color, thickness)\n",
    "\n",
    "cv2.imshow(\"Model Image\", img_resize)\n",
    "cv2.waitKey(0)\n",
    "cv2.destroyAllWindows()"
   ]
  },
  {
   "cell_type": "markdown",
   "id": "870ed6eb",
   "metadata": {},
   "source": [
    "# Ellipse and text"
   ]
  },
  {
   "cell_type": "code",
   "execution_count": 8,
   "id": "0dc1949a",
   "metadata": {},
   "outputs": [],
   "source": [
    "img_path = r\"C:\\Users\\photos\\beautiful-1434835_1920.jpg\"\n",
    "\n",
    "img = cv2.imread(img_path)\n",
    "img_resize = cv2.resize(img, (1280, 720))\n",
    "\n",
    "center = (500, 230)   #500 is x, 230 is y\n",
    "axes =  (100, 200)   # 100 is x, 200 is y\n",
    "angle = 30\n",
    "startAngle = 0\n",
    "endAngle = 340\n",
    "color = (12, 200, 43)\n",
    "thickness = 5       # -1 is for fill the elipse\n",
    "\n",
    "#ellipse(img, center, axes, angle, startAngle, endAngle, color[, thickness[, lineType[, shift]]]) -> img\n",
    "cv2.ellipse(img_resize, center, axes, angle, startAngle, endAngle, color, thickness)\n",
    "\n",
    "# putText(img, text, org, fontFace, fontScale, color[, thickness[, lineType[, bottomLeftOrigin]]]) -> img\n",
    "cv2.putText(img_resize, \"Model smile\", (600, 280), cv2.FONT_HERSHEY_SCRIPT_SIMPLEX, 2, (34, 200, 200), 3)\n",
    "\n",
    "cv2.imshow(\"Model Image\", img_resize)\n",
    "cv2.waitKey(0)\n",
    "cv2.destroyAllWindows()"
   ]
  },
  {
   "cell_type": "code",
   "execution_count": null,
   "id": "d7ecef6f",
   "metadata": {},
   "outputs": [],
   "source": []
  }
 ],
 "metadata": {
  "kernelspec": {
   "display_name": "Python 3",
   "language": "python",
   "name": "python3"
  },
  "language_info": {
   "codemirror_mode": {
    "name": "ipython",
    "version": 3
   },
   "file_extension": ".py",
   "mimetype": "text/x-python",
   "name": "python",
   "nbconvert_exporter": "python",
   "pygments_lexer": "ipython3",
   "version": "3.7.11"
  }
 },
 "nbformat": 4,
 "nbformat_minor": 5
}
