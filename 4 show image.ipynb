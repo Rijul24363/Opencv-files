{
 "cells": [
  {
   "cell_type": "markdown",
   "id": "e9bb890c",
   "metadata": {},
   "source": [
    "# Everything about cv2.imshow()\n",
    "\n",
    "\n",
    "syntax: cv2.imshow(window name, ndarray)\n",
    "\n",
    "this function help to show image or numpy array in the form of image."
   ]
  },
  {
   "cell_type": "code",
   "execution_count": 2,
   "id": "11d0b8c9",
   "metadata": {},
   "outputs": [],
   "source": [
    "import cv2\n",
    "import numpy as np"
   ]
  },
  {
   "cell_type": "code",
   "execution_count": 3,
   "id": "f2109cab",
   "metadata": {},
   "outputs": [
    {
     "data": {
      "text/plain": [
       "array([[0., 0., 0., ..., 0., 0., 0.],\n",
       "       [0., 0., 0., ..., 0., 0., 0.],\n",
       "       [0., 0., 0., ..., 0., 0., 0.],\n",
       "       ...,\n",
       "       [0., 0., 0., ..., 0., 0., 0.],\n",
       "       [0., 0., 0., ..., 0., 0., 0.],\n",
       "       [0., 0., 0., ..., 0., 0., 0.]])"
      ]
     },
     "execution_count": 3,
     "metadata": {},
     "output_type": "execute_result"
    }
   ],
   "source": [
    "matx = np.zeros((200,200))  #zeros ki jgh hum koi array le skte hai.\n",
    "matx"
   ]
  },
  {
   "cell_type": "code",
   "execution_count": 5,
   "id": "a3f3a2fb",
   "metadata": {},
   "outputs": [],
   "source": [
    "# is code se kisi bhi numpy array ko hum image mei show kr skte hai. because of the this code the image is in black colour.\n",
    "cv2.imshow(\"Zeros matx\", matx)  #zero matx in the name you can give any name. and matx is the array.\n",
    "\n",
    "cv2.waitKey(0)\n",
    "cv2.destroyAllWindows()"
   ]
  },
  {
   "cell_type": "code",
   "execution_count": 6,
   "id": "30fd5906",
   "metadata": {},
   "outputs": [],
   "source": [
    "img_path = (r\"C:\\Users\\photos\\man-839604_1920.jpg\")\n",
    "img = cv2.imread(img_path)\n",
    "\n",
    "cv2.imshow(\"Model image\", img)\n",
    "\n",
    "cv2.waitKey(0)\n",
    "cv2.destroyAllWindows()"
   ]
  },
  {
   "cell_type": "code",
   "execution_count": 9,
   "id": "6f86d372",
   "metadata": {},
   "outputs": [],
   "source": [
    "img_path = (r\"C:\\Users\\photos\\man-839604_1920.jpg\")\n",
    "img = cv2.imread(img_path)\n",
    "\n",
    "cv2.imshow(\"Model image 1\", img)  # if we want that 1 image can be shown in three windows then we can put window name diff by this function image can be shown 1 time.\n",
    "\n",
    "cv2.imshow(\"Model image 2\", img)  #like in this cide i have used model 1, model image2, model image 3. after this it can be shown on three windows.\n",
    "\n",
    "cv2.imshow(\"Model image 3\", img)\n",
    "\n",
    "\n",
    "cv2.waitKey(0)\n",
    "cv2.destroyAllWindows()"
   ]
  },
  {
   "cell_type": "code",
   "execution_count": null,
   "id": "d3528972",
   "metadata": {},
   "outputs": [],
   "source": []
  }
 ],
 "metadata": {
  "kernelspec": {
   "display_name": "Python 3",
   "language": "python",
   "name": "python3"
  },
  "language_info": {
   "codemirror_mode": {
    "name": "ipython",
    "version": 3
   },
   "file_extension": ".py",
   "mimetype": "text/x-python",
   "name": "python",
   "nbconvert_exporter": "python",
   "pygments_lexer": "ipython3",
   "version": "3.7.11"
  }
 },
 "nbformat": 4,
 "nbformat_minor": 5
}
