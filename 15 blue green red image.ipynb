{
 "cells": [
  {
   "cell_type": "markdown",
   "id": "a12efa7d",
   "metadata": {},
   "source": [
    "# convert RGB(color) image into Blue, Green, Red"
   ]
  },
  {
   "cell_type": "code",
   "execution_count": 1,
   "id": "7a1d7efe",
   "metadata": {},
   "outputs": [],
   "source": [
    "import cv2\n",
    "import numpy as np"
   ]
  },
  {
   "cell_type": "code",
   "execution_count": 4,
   "id": "8ce083dc",
   "metadata": {},
   "outputs": [],
   "source": [
    "img_path = r\"C:\\Users\\photos\\girl-1733335_1920.jpg\"\n",
    "\n",
    "img = cv2.imread(img_path)\n",
    "img = cv2.resize(img, (1280, 720))\n",
    "\n",
    "cv2.imshow(\"color Image\", img)\n",
    "cv2.waitKey(0)\n",
    "cv2.destroyAllWindows()"
   ]
  },
  {
   "cell_type": "code",
   "execution_count": 5,
   "id": "d584243c",
   "metadata": {},
   "outputs": [
    {
     "data": {
      "text/plain": [
       "(720, 1280, 3)"
      ]
     },
     "execution_count": 5,
     "metadata": {},
     "output_type": "execute_result"
    }
   ],
   "source": [
    "img.shape"
   ]
  },
  {
   "cell_type": "markdown",
   "id": "dcc8ed89",
   "metadata": {},
   "source": [
    "# Blue image"
   ]
  },
  {
   "cell_type": "code",
   "execution_count": 6,
   "id": "97fcfc2a",
   "metadata": {},
   "outputs": [],
   "source": [
    "b, g, r = cv2.split(img)\n",
    "\n",
    "zero_ch = np.zeros(img.shape[0:2], dtype = \"uint8\")\n",
    "\n",
    "blue_img = cv2.merge([b, zero_ch, zero_ch])\n",
    "\n",
    "cv2.imshow(\"Blue Image\", blue_img)\n",
    "\n",
    "cv2.waitKey(0)\n",
    "cv2.destroyAllWindows()"
   ]
  },
  {
   "cell_type": "markdown",
   "id": "46bf72dc",
   "metadata": {},
   "source": [
    "# Green image "
   ]
  },
  {
   "cell_type": "code",
   "execution_count": 7,
   "id": "0753622a",
   "metadata": {},
   "outputs": [],
   "source": [
    "b, g, r = cv2.split(img)\n",
    "\n",
    "zero_ch = np.zeros(img.shape[0:2], dtype = \"uint8\")\n",
    "\n",
    "\n",
    "green_img = cv2.merge([zero_ch, g, zero_ch])\n",
    "\n",
    "cv2.imshow(\"Green Image\", green_img)\n",
    "\n",
    "cv2.waitKey(0)\n",
    "cv2.destroyAllWindows()"
   ]
  },
  {
   "cell_type": "markdown",
   "id": "7bc2385a",
   "metadata": {},
   "source": [
    "# Red image"
   ]
  },
  {
   "cell_type": "code",
   "execution_count": 8,
   "id": "453a6805",
   "metadata": {},
   "outputs": [],
   "source": [
    "b, g, r = cv2.split(img)\n",
    "\n",
    "zero_ch = np.zeros(img.shape[0:2], dtype = \"uint8\")\n",
    "\n",
    "\n",
    "red_img = cv2.merge([zero_ch, zero_ch, r])\n",
    "\n",
    "cv2.imshow(\"Red Image\", red_img)\n",
    "\n",
    "cv2.waitKey(0)\n",
    "cv2.destroyAllWindows()"
   ]
  },
  {
   "cell_type": "markdown",
   "id": "aff95aea",
   "metadata": {},
   "source": [
    "# Show image using index splitting and 4 image in one window"
   ]
  },
  {
   "cell_type": "code",
   "execution_count": 11,
   "id": "81e78807",
   "metadata": {},
   "outputs": [],
   "source": [
    "img = cv2.resize(img, (400, 300))\n",
    "red_array = np.zeros(img.shape, dtype = \"uint8\")\n",
    "red_array[:, :, 2] = img[:, :, 2]\n",
    "\n",
    "green_array = np.zeros(img.shape, dtype = \"uint8\")\n",
    "green_array[:, :, 1] = img[:, :, 1]\n",
    "\n",
    "blue_array = np.zeros(img.shape, dtype = \"uint8\")\n",
    "blue_array[:, :, 0] = img[:, :, 0]\n",
    "\n",
    "ht1 = np.hstack((red_array, green_array))\n",
    "ht2 = np.hstack((blue_array, img))\n",
    "img_4 = np.vstack((ht1, ht2))\n",
    "\n",
    "cv2.imshow(\"4 images\", img_4)\n",
    "\n",
    "cv2.waitKey(0)\n",
    "cv2.destroyAllWindows()"
   ]
  },
  {
   "cell_type": "code",
   "execution_count": null,
   "id": "2ebb63d1",
   "metadata": {},
   "outputs": [],
   "source": []
  }
 ],
 "metadata": {
  "kernelspec": {
   "display_name": "Python 3",
   "language": "python",
   "name": "python3"
  },
  "language_info": {
   "codemirror_mode": {
    "name": "ipython",
    "version": 3
   },
   "file_extension": ".py",
   "mimetype": "text/x-python",
   "name": "python",
   "nbconvert_exporter": "python",
   "pygments_lexer": "ipython3",
   "version": "3.7.11"
  }
 },
 "nbformat": 4,
 "nbformat_minor": 5
}
