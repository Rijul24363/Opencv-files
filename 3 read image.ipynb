{
 "cells": [
  {
   "cell_type": "markdown",
   "id": "b8cc736f",
   "metadata": {},
   "source": [
    "# Read Image Using OpenCV "
   ]
  },
  {
   "cell_type": "markdown",
   "id": "57d50432",
   "metadata": {},
   "source": [
    "# Syntax: cv2.imread(path, flag)"
   ]
  },
  {
   "cell_type": "markdown",
   "id": "3f78160b",
   "metadata": {},
   "source": [
    "# Parameters:"
   ]
  },
  {
   "cell_type": "markdown",
   "id": "e2184920",
   "metadata": {},
   "source": [
    "# path: Image Path"
   ]
  },
  {
   "cell_type": "markdown",
   "id": "dd26dfd8",
   "metadata": {},
   "source": [
    "# flag: default value is cv2.IMREAD_COLOR "
   ]
  },
  {
   "cell_type": "markdown",
   "id": "4509c859",
   "metadata": {},
   "source": [
    "# cv2.IMREAD_COLOR or 1:     reads the image with RGB colours"
   ]
  },
  {
   "cell_type": "markdown",
   "id": "b8242dbe",
   "metadata": {},
   "source": [
    "# cv2.IMREAD_GRAYSCALE or 0:      reads the image with gray colors."
   ]
  },
  {
   "cell_type": "markdown",
   "id": "ae1e1b20",
   "metadata": {},
   "source": [
    "# cv2.IMREAD_UNCHANGED or -1:   it reads the image as from the source. if the source image is an RGB, it loads the image into arrray with Red, Green, Blue channels. if the source image is ARGB, it loads the image with three color components along with the alpha or transparency channel."
   ]
  },
  {
   "cell_type": "code",
   "execution_count": null,
   "id": "69bbe5dd",
   "metadata": {},
   "outputs": [],
   "source": []
  },
  {
   "cell_type": "code",
   "execution_count": null,
   "id": "47339879",
   "metadata": {},
   "outputs": [],
   "source": []
  },
  {
   "cell_type": "code",
   "execution_count": 6,
   "id": "c712e720",
   "metadata": {},
   "outputs": [
    {
     "name": "stdout",
     "output_type": "stream",
     "text": [
      "[[[172 166 153]\n",
      "  [172 166 153]\n",
      "  [172 166 153]\n",
      "  ...\n",
      "  [199 190 177]\n",
      "  [199 190 177]\n",
      "  [199 190 177]]\n",
      "\n",
      " [[172 166 153]\n",
      "  [172 166 153]\n",
      "  [172 166 153]\n",
      "  ...\n",
      "  [199 190 177]\n",
      "  [199 190 177]\n",
      "  [199 190 177]]\n",
      "\n",
      " [[172 166 153]\n",
      "  [172 166 153]\n",
      "  [172 166 153]\n",
      "  ...\n",
      "  [199 190 177]\n",
      "  [199 190 177]\n",
      "  [199 190 177]]\n",
      "\n",
      " ...\n",
      "\n",
      " [[163 159 148]\n",
      "  [163 159 148]\n",
      "  [163 159 148]\n",
      "  ...\n",
      "  [166 160 147]\n",
      "  [166 160 147]\n",
      "  [166 160 147]]\n",
      "\n",
      " [[162 158 147]\n",
      "  [162 158 147]\n",
      "  [162 158 147]\n",
      "  ...\n",
      "  [166 160 147]\n",
      "  [166 160 147]\n",
      "  [166 160 147]]\n",
      "\n",
      " [[163 160 146]\n",
      "  [163 160 146]\n",
      "  [163 160 146]\n",
      "  ...\n",
      "  [167 161 148]\n",
      "  [166 160 147]\n",
      "  [165 159 146]]]\n"
     ]
    }
   ],
   "source": [
    "import cv2\n",
    "\n",
    "path = r\"C:\\Users\\photos\\business-woman-2071342_1920.jpg\"\n",
    "\n",
    "img = cv2.imread(path)\n",
    "\n",
    "print(img)\n",
    "\n",
    "cv2.imshow('photo', img)\n",
    "cv2.waitKey(0)\n",
    "\n",
    "cv2.destroyAllWindows()"
   ]
  },
  {
   "cell_type": "code",
   "execution_count": 7,
   "id": "2378db97",
   "metadata": {},
   "outputs": [
    {
     "name": "stdout",
     "output_type": "stream",
     "text": [
      "[[163 163 163 ... 187 187 187]\n",
      " [163 163 163 ... 187 187 187]\n",
      " [163 163 163 ... 187 187 187]\n",
      " ...\n",
      " [156 156 156 ... 157 157 157]\n",
      " [155 155 155 ... 157 157 157]\n",
      " [156 156 156 ... 158 157 156]]\n"
     ]
    }
   ],
   "source": [
    "import cv2\n",
    "\n",
    "path = r\"C:\\Users\\photos\\business-woman-2071342_1920.jpg\"\n",
    "\n",
    "img = cv2.imread(path, 0)  #0 is for grayscale\n",
    "\n",
    "print(img)\n",
    "\n",
    "cv2.imshow('photo', img)\n",
    "cv2.waitKey(0)\n",
    "\n",
    "cv2.destroyAllWindows()"
   ]
  },
  {
   "cell_type": "code",
   "execution_count": 8,
   "id": "b205f2a5",
   "metadata": {},
   "outputs": [
    {
     "name": "stdout",
     "output_type": "stream",
     "text": [
      "[[[172 166 153]\n",
      "  [172 166 153]\n",
      "  [172 166 153]\n",
      "  ...\n",
      "  [199 190 177]\n",
      "  [199 190 177]\n",
      "  [199 190 177]]\n",
      "\n",
      " [[172 166 153]\n",
      "  [172 166 153]\n",
      "  [172 166 153]\n",
      "  ...\n",
      "  [199 190 177]\n",
      "  [199 190 177]\n",
      "  [199 190 177]]\n",
      "\n",
      " [[172 166 153]\n",
      "  [172 166 153]\n",
      "  [172 166 153]\n",
      "  ...\n",
      "  [199 190 177]\n",
      "  [199 190 177]\n",
      "  [199 190 177]]\n",
      "\n",
      " ...\n",
      "\n",
      " [[163 159 148]\n",
      "  [163 159 148]\n",
      "  [163 159 148]\n",
      "  ...\n",
      "  [166 160 147]\n",
      "  [166 160 147]\n",
      "  [166 160 147]]\n",
      "\n",
      " [[162 158 147]\n",
      "  [162 158 147]\n",
      "  [162 158 147]\n",
      "  ...\n",
      "  [166 160 147]\n",
      "  [166 160 147]\n",
      "  [166 160 147]]\n",
      "\n",
      " [[163 160 146]\n",
      "  [163 160 146]\n",
      "  [163 160 146]\n",
      "  ...\n",
      "  [167 161 148]\n",
      "  [166 160 147]\n",
      "  [165 159 146]]]\n"
     ]
    }
   ],
   "source": [
    "import cv2\n",
    "\n",
    "path = r\"C:\\Users\\photos\\business-woman-2071342_1920.jpg\"\n",
    "\n",
    "img = cv2.imread(path, 1)  \n",
    "\n",
    "print(img)\n",
    "\n",
    "cv2.imshow('photo', img)\n",
    "cv2.waitKey(0)\n",
    "\n",
    "cv2.destroyAllWindows()"
   ]
  },
  {
   "cell_type": "code",
   "execution_count": 10,
   "id": "2af1096c",
   "metadata": {},
   "outputs": [
    {
     "name": "stdout",
     "output_type": "stream",
     "text": [
      "(1281, 1920, 3)\n",
      "[[[172 166 153]\n",
      "  [172 166 153]\n",
      "  [172 166 153]\n",
      "  ...\n",
      "  [199 190 177]\n",
      "  [199 190 177]\n",
      "  [199 190 177]]\n",
      "\n",
      " [[172 166 153]\n",
      "  [172 166 153]\n",
      "  [172 166 153]\n",
      "  ...\n",
      "  [199 190 177]\n",
      "  [199 190 177]\n",
      "  [199 190 177]]\n",
      "\n",
      " [[172 166 153]\n",
      "  [172 166 153]\n",
      "  [172 166 153]\n",
      "  ...\n",
      "  [199 190 177]\n",
      "  [199 190 177]\n",
      "  [199 190 177]]\n",
      "\n",
      " ...\n",
      "\n",
      " [[163 159 148]\n",
      "  [163 159 148]\n",
      "  [163 159 148]\n",
      "  ...\n",
      "  [166 160 147]\n",
      "  [166 160 147]\n",
      "  [166 160 147]]\n",
      "\n",
      " [[162 158 147]\n",
      "  [162 158 147]\n",
      "  [162 158 147]\n",
      "  ...\n",
      "  [166 160 147]\n",
      "  [166 160 147]\n",
      "  [166 160 147]]\n",
      "\n",
      " [[163 160 146]\n",
      "  [163 160 146]\n",
      "  [163 160 146]\n",
      "  ...\n",
      "  [167 161 148]\n",
      "  [166 160 147]\n",
      "  [165 159 146]]]\n"
     ]
    }
   ],
   "source": [
    "import cv2\n",
    "\n",
    "path = r\"C:\\Users\\photos\\business-woman-2071342_1920.jpg\"\n",
    "\n",
    "img = cv2.imread(path, 1)  \n",
    "\n",
    "print(img.shape)  #shape is for see the image\n",
    "print(img)\n",
    "\n",
    "cv2.imshow('photo', img)\n",
    "cv2.waitKey(0)\n",
    "\n",
    "cv2.destroyAllWindows()"
   ]
  },
  {
   "cell_type": "code",
   "execution_count": 11,
   "id": "d8a9ea56",
   "metadata": {},
   "outputs": [
    {
     "name": "stdout",
     "output_type": "stream",
     "text": [
      "[[[172 166 153]\n",
      "  [172 166 153]\n",
      "  [172 166 153]\n",
      "  ...\n",
      "  [199 190 177]\n",
      "  [199 190 177]\n",
      "  [199 190 177]]\n",
      "\n",
      " [[172 166 153]\n",
      "  [172 166 153]\n",
      "  [172 166 153]\n",
      "  ...\n",
      "  [199 190 177]\n",
      "  [199 190 177]\n",
      "  [199 190 177]]\n",
      "\n",
      " [[172 166 153]\n",
      "  [172 166 153]\n",
      "  [172 166 153]\n",
      "  ...\n",
      "  [199 190 177]\n",
      "  [199 190 177]\n",
      "  [199 190 177]]\n",
      "\n",
      " ...\n",
      "\n",
      " [[163 159 148]\n",
      "  [163 159 148]\n",
      "  [163 159 148]\n",
      "  ...\n",
      "  [166 160 147]\n",
      "  [166 160 147]\n",
      "  [166 160 147]]\n",
      "\n",
      " [[162 158 147]\n",
      "  [162 158 147]\n",
      "  [162 158 147]\n",
      "  ...\n",
      "  [166 160 147]\n",
      "  [166 160 147]\n",
      "  [166 160 147]]\n",
      "\n",
      " [[163 160 146]\n",
      "  [163 160 146]\n",
      "  [163 160 146]\n",
      "  ...\n",
      "  [167 161 148]\n",
      "  [166 160 147]\n",
      "  [165 159 146]]]\n"
     ]
    }
   ],
   "source": [
    "import cv2\n",
    "\n",
    "path = r\"C:\\Users\\photos\\business-woman-2071342_1920.jpg\"\n",
    "\n",
    "img = cv2.imread(path, -1)  \n",
    "\n",
    "print(img)\n",
    "\n",
    "cv2.imshow('photo', img)\n",
    "cv2.waitKey(0)\n",
    "\n",
    "cv2.destroyAllWindows()"
   ]
  },
  {
   "cell_type": "code",
   "execution_count": null,
   "id": "cd9cef26",
   "metadata": {},
   "outputs": [],
   "source": []
  }
 ],
 "metadata": {
  "kernelspec": {
   "display_name": "Python 3",
   "language": "python",
   "name": "python3"
  },
  "language_info": {
   "codemirror_mode": {
    "name": "ipython",
    "version": 3
   },
   "file_extension": ".py",
   "mimetype": "text/x-python",
   "name": "python",
   "nbconvert_exporter": "python",
   "pygments_lexer": "ipython3",
   "version": "3.7.11"
  }
 },
 "nbformat": 4,
 "nbformat_minor": 5
}
