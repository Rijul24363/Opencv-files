{
 "cells": [
  {
   "cell_type": "markdown",
   "id": "5f60a336",
   "metadata": {},
   "source": [
    "# Morpholigical operations\n",
    "\n",
    "morpholigical transformations are some simple operations based on the image shape. it is normally performed on <b> binary images </b>.   it needs 2 inputs , 1 is for original image and 2is for called structuring element or kernel which decides the nature of the operation.                             Two basic morphological operators are erosion and dilation. then its variant forms like opening, closing, gradient etc also comes into play. we will see them one by one with the following images.\n",
    "\n",
    "\n",
    "1. erosion\n",
    "2. dilation\n",
    "3. opening\n",
    "4. closing\n",
    "5. morpholigical gradient\n",
    "6. top hat\n",
    "7. black hat"
   ]
  },
  {
   "cell_type": "markdown",
   "id": "5ab8c0a1",
   "metadata": {},
   "source": [
    "# Erosion\n",
    "\n",
    "the basic idea of erosion is just like soil erosion only, if erodes away the boundaries of foreground object. so what it does? the kernel slides through the image . A pixel in the original image either 0 or 1 will be considered 1 only if all the pixels under the kernel is 1, otherwise it is eroded(made to zero).\n",
    "\n",
    "so what happens is that, all the pixels near boundary will be discarded depending upon the size f kernel. so the thickness or the size of the forground object decreases or simply white region decreases in the image. it is useful for removing small white noises , detach two connected  objects etc."
   ]
  },
  {
   "cell_type": "code",
   "execution_count": 2,
   "id": "58f88991",
   "metadata": {},
   "outputs": [],
   "source": [
    "import cv2\n",
    "import numpy as np"
   ]
  },
  {
   "cell_type": "code",
   "execution_count": 12,
   "id": "1f793b70",
   "metadata": {},
   "outputs": [],
   "source": [
    "img_path_road = r\"C:\\Users\\photos\\country-road-644685_1920.jpg\"\n",
    "img_path_girl = r\"C:\\Users\\photos\\model-2288068_1920.jpg\"\n",
    "img_path_moon = r\"C:\\Users\\photos\\beautiful-1434835_1920.jpg\"\n",
    "\n",
    "img_road = cv2.imread(img_path_road, 0)\n",
    "img_moon = cv2.imread(img_path_moon, 0)\n",
    "img_girl = cv2.imread(img_path_girl, 0)\n",
    "\n",
    "img = cv2.resize(img_moon, (600, 400))\n",
    "img_girl = cv2.resize(img_girl, (600, 400))\n",
    "\n",
    "cv2.imshow(\"Image road\", img)\n",
    "cv2.imshow(\"Image moon\", img_moon)\n",
    "cv2.imshow(\"Image girl\", img_girl)\n",
    "\n",
    "cv2.waitKey(0)\n",
    "cv2.destroyAllWindows()"
   ]
  },
  {
   "cell_type": "code",
   "execution_count": 14,
   "id": "ac429f9f",
   "metadata": {},
   "outputs": [
    {
     "data": {
      "text/plain": [
       "array([[1, 1, 1, 1, 1],\n",
       "       [1, 1, 1, 1, 1],\n",
       "       [1, 1, 1, 1, 1],\n",
       "       [1, 1, 1, 1, 1],\n",
       "       [1, 1, 1, 1, 1]], dtype=uint8)"
      ]
     },
     "execution_count": 14,
     "metadata": {},
     "output_type": "execute_result"
    }
   ],
   "source": [
    "kernel = np.ones((5,5), dtype=\"uint8\")\n",
    "kernel"
   ]
  },
  {
   "cell_type": "code",
   "execution_count": 15,
   "id": "e4b954bd",
   "metadata": {},
   "outputs": [
    {
     "data": {
      "text/plain": [
       "'C:\\\\Users\\\\photos\\\\model-2288068_1920.jpg'"
      ]
     },
     "execution_count": 15,
     "metadata": {},
     "output_type": "execute_result"
    }
   ],
   "source": [
    "img_path_girl"
   ]
  },
  {
   "cell_type": "code",
   "execution_count": 16,
   "id": "06303c75",
   "metadata": {},
   "outputs": [],
   "source": [
    "# erode(src, kernel[, dst[, anchor[, iterations[, borderType[, borderValue]]]]]) -> dst\n",
    "erode_img = cv2.erode(img_girl, kernel, iterations=1)\n",
    "\n",
    "org_img_erode_img = np.hstack((img_girl, erode_img))\n",
    "\n",
    "cv2.imshow(\"Image\", org_img_erode_img)\n",
    "cv2.waitKey(0)\n",
    "cv2.destroyAllWindows()"
   ]
  },
  {
   "cell_type": "code",
   "execution_count": 20,
   "id": "6263cb69",
   "metadata": {},
   "outputs": [],
   "source": [
    "erode_img = cv2.erode(img_moon, kernel, iterations=2)\n",
    "\n",
    "org_img_erode_img = np.hstack((img_road, erode_img))\n",
    "\n",
    "cv2.imshow(\"Image\", org_img_erode_img)\n",
    "cv2.waitKey(0)\n",
    "cv2.destroyAllWindows()"
   ]
  },
  {
   "cell_type": "code",
   "execution_count": null,
   "id": "f2a87913",
   "metadata": {},
   "outputs": [],
   "source": []
  }
 ],
 "metadata": {
  "kernelspec": {
   "display_name": "Python 3",
   "language": "python",
   "name": "python3"
  },
  "language_info": {
   "codemirror_mode": {
    "name": "ipython",
    "version": 3
   },
   "file_extension": ".py",
   "mimetype": "text/x-python",
   "name": "python",
   "nbconvert_exporter": "python",
   "pygments_lexer": "ipython3",
   "version": "3.7.11"
  }
 },
 "nbformat": 4,
 "nbformat_minor": 5
}
