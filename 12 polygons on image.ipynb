{
 "cells": [
  {
   "cell_type": "code",
   "execution_count": 1,
   "id": "204a7f9c",
   "metadata": {},
   "outputs": [],
   "source": [
    "import cv2\n",
    "import numpy as np\n",
    "import os"
   ]
  },
  {
   "cell_type": "markdown",
   "id": "1e7d63d1",
   "metadata": {},
   "source": [
    "# Draw Polygon, Triangle, Line, Rectangle, Hexagon and print text on image"
   ]
  },
  {
   "cell_type": "code",
   "execution_count": 2,
   "id": "4081cf48",
   "metadata": {},
   "outputs": [],
   "source": [
    "img_path = r\"C:\\Users\\photos\\business-woman-2071342_1920.jpg\"\n",
    "\n",
    "img = cv2.imread(img_path)\n",
    "img_resize = cv2.resize(img, (1280, 720))\n",
    "\n",
    "cv2.imshow(\"Model Image\", img_resize)\n",
    "cv2.waitKey(0)\n",
    "cv2.destroyAllWindows()"
   ]
  },
  {
   "cell_type": "markdown",
   "id": "fce67027",
   "metadata": {},
   "source": [
    "# Draw polyline"
   ]
  },
  {
   "cell_type": "code",
   "execution_count": 5,
   "id": "d7f7d7d7",
   "metadata": {},
   "outputs": [],
   "source": [
    "img_path = r\"C:\\Users\\photos\\business-woman-2071342_1920.jpg\"\n",
    "\n",
    "img = cv2.imread(img_path)\n",
    "img_resize = cv2.resize(img, (1280, 720))\n",
    "\n",
    "pts = np.array([[12, 45], [34, 56], [23, 76], [67, 98], [93, 56]])\n",
    "isClosed = True\n",
    "color = (34, 65, 2)\n",
    "thickness = 5\n",
    "\n",
    "# polylines(img, pts, isClosed, color[, thickness[, lineType[, shift]]]) -> img\n",
    "cv2.polylines(img_resize, [pts], isClosed, color, thickness)\n",
    "\n",
    "cv2.imshow(\"Model Image\", img_resize)\n",
    "cv2.waitKey(0)\n",
    "cv2.destroyAllWindows()"
   ]
  },
  {
   "cell_type": "markdown",
   "id": "6e625585",
   "metadata": {},
   "source": [
    "# Draw Octagon using polyline"
   ]
  },
  {
   "cell_type": "code",
   "execution_count": 6,
   "id": "64a75cfe",
   "metadata": {},
   "outputs": [],
   "source": [
    "img_path = r\"C:\\Users\\photos\\business-woman-2071342_1920.jpg\"\n",
    "\n",
    "img = cv2.imread(img_path)\n",
    "img_resize = cv2.resize(img, (1280, 720))\n",
    "\n",
    "# pts = np.array([[12, 45], [34, 56], [23, 76], [67, 98], [93, 56]])\n",
    "\n",
    "pts = np.array([[25, 70],[25, 145],\n",
    "               [75, 190], [150, 190],\n",
    "               [200, 145], [200, 70],\n",
    "               [150, 25], [75, 25]],\n",
    "              np.int32)\n",
    "isClosed = True\n",
    "color = (34, 65, 2)\n",
    "thickness = 5\n",
    "\n",
    "# polylines(img, pts, isClosed, color[, thickness[, lineType[, shift]]]) -> img\n",
    "cv2.polylines(img_resize, [pts], isClosed, color, thickness)\n",
    "\n",
    "cv2.imshow(\"Model Image\", img_resize)\n",
    "cv2.waitKey(0)\n",
    "cv2.destroyAllWindows()"
   ]
  },
  {
   "cell_type": "markdown",
   "id": "72978258",
   "metadata": {},
   "source": [
    "# Draw line, rectangle, triangle using polylines"
   ]
  },
  {
   "cell_type": "code",
   "execution_count": 7,
   "id": "6ab93bf9",
   "metadata": {},
   "outputs": [
    {
     "name": "stdout",
     "output_type": "stream",
     "text": [
      "[[ 25  70]\n",
      " [ 25 145]\n",
      " [ 75 190]\n",
      " [150 190]\n",
      " [200 145]\n",
      " [200  70]\n",
      " [150  25]\n",
      " [ 75  25]]\n"
     ]
    }
   ],
   "source": [
    "img_path = r\"C:\\Users\\photos\\business-woman-2071342_1920.jpg\"\n",
    "\n",
    "img = cv2.imread(img_path)\n",
    "img_resize = cv2.resize(img, (1280, 720))\n",
    "\n",
    "# pts = np.array([[12, 45], [34, 56], [23, 76], [67, 98], [93, 56]])\n",
    "\n",
    "rectangle = np.array([[10, 5], [10, 225], [50, 225], [50, 5]], np.int32)\n",
    "triangle = np.array([[60, 10], [60, 200], [150, 100]], np.int32)\n",
    "\n",
    "line = np.array([[10,11], [10,11], [50, 225], [50, 225]], np.int32)\n",
    "\n",
    "print(pts)\n",
    "\n",
    "isClosed = True\n",
    "color = (34, 23, 45)\n",
    "thickness = 2\n",
    "\n",
    "# polylines(img, pts, isClosed, color[, thickness[, lineType[, shift]]]) -> img\n",
    "cv2.polylines(img_resize, [line], isClosed, color, thickness)\n",
    "\n",
    "cv2.imshow(\"Polyline on Model\", img_resize)\n",
    "\n",
    "cv2.waitKey(0)\n",
    "cv2.destroyAllWindows()"
   ]
  },
  {
   "cell_type": "code",
   "execution_count": 8,
   "id": "2d4506bf",
   "metadata": {},
   "outputs": [
    {
     "name": "stdout",
     "output_type": "stream",
     "text": [
      "[[ 25  70]\n",
      " [ 25 145]\n",
      " [ 75 190]\n",
      " [150 190]\n",
      " [200 145]\n",
      " [200  70]\n",
      " [150  25]\n",
      " [ 75  25]]\n"
     ]
    }
   ],
   "source": [
    "# RECTANGLE\n",
    "\n",
    "img_path = r\"C:\\Users\\photos\\business-woman-2071342_1920.jpg\"\n",
    "\n",
    "img = cv2.imread(img_path)\n",
    "img_resize = cv2.resize(img, (1280, 720))\n",
    "\n",
    "# pts = np.array([[12, 45], [34, 56], [23, 76], [67, 98], [93, 56]])\n",
    "\n",
    "rectangle = np.array([[10, 5], [10, 225], [50, 225], [50, 5]], np.int32)\n",
    "triangle = np.array([[60, 10], [60, 200], [150, 100]], np.int32)\n",
    "\n",
    "line = np.array([[10,11], [10,11], [50, 225], [50, 225]], np.int32)\n",
    "\n",
    "print(pts)\n",
    "\n",
    "isClosed = True\n",
    "color = (34, 23, 45)\n",
    "thickness = 2\n",
    "\n",
    "# polylines(img, pts, isClosed, color[, thickness[, lineType[, shift]]]) -> img\n",
    "cv2.polylines(img_resize, [rectangle], isClosed, color, thickness)\n",
    "\n",
    "cv2.imshow(\"Polyline on Model\", img_resize)\n",
    "\n",
    "cv2.waitKey(0)\n",
    "cv2.destroyAllWindows()"
   ]
  },
  {
   "cell_type": "code",
   "execution_count": 9,
   "id": "4990504f",
   "metadata": {},
   "outputs": [
    {
     "name": "stdout",
     "output_type": "stream",
     "text": [
      "[[ 25  70]\n",
      " [ 25 145]\n",
      " [ 75 190]\n",
      " [150 190]\n",
      " [200 145]\n",
      " [200  70]\n",
      " [150  25]\n",
      " [ 75  25]]\n"
     ]
    }
   ],
   "source": [
    "# TRiangle\n",
    "\n",
    "img_path = r\"C:\\Users\\photos\\business-woman-2071342_1920.jpg\"\n",
    "\n",
    "img = cv2.imread(img_path)\n",
    "img_resize = cv2.resize(img, (1280, 720))\n",
    "\n",
    "# pts = np.array([[12, 45], [34, 56], [23, 76], [67, 98], [93, 56]])\n",
    "\n",
    "rectangle = np.array([[10, 5], [10, 225], [50, 225], [50, 5]], np.int32)\n",
    "triangle = np.array([[60, 10], [60, 200], [150, 100]], np.int32)\n",
    "\n",
    "line = np.array([[10,11], [50, 225]], np.int32)\n",
    "\n",
    "print(pts)\n",
    "\n",
    "isClosed = True   # if we want to not close the traingle then we can put false.\n",
    "color = (34, 23, 45)\n",
    "thickness = 2\n",
    "\n",
    "# polylines(img, pts, isClosed, color[, thickness[, lineType[, shift]]]) -> img\n",
    "cv2.polylines(img_resize, [triangle], isClosed, color, thickness)\n",
    "\n",
    "cv2.imshow(\"Polyline on Model\", img_resize)\n",
    "\n",
    "cv2.waitKey(0)\n",
    "cv2.destroyAllWindows()"
   ]
  },
  {
   "cell_type": "markdown",
   "id": "54f4851e",
   "metadata": {},
   "source": [
    "# Draw polylines and print text "
   ]
  },
  {
   "cell_type": "code",
   "execution_count": 12,
   "id": "bec70015",
   "metadata": {},
   "outputs": [],
   "source": [
    "img_path = r\"C:\\Users\\photos\\business-woman-2071342_1920.jpg\"\n",
    "\n",
    "img = cv2.imread(img_path)\n",
    "img_resize = cv2.resize(img, (1280, 720))\n",
    "\n",
    "# pts = np.array([[12, 45], [34, 56], [23, 76], [67, 98], [93, 56]])\n",
    "\n",
    "pts = np.array([[25, 70],[25, 145],\n",
    "               [75, 190], [150, 190],\n",
    "               [200, 145], [200, 70],\n",
    "               [150, 25], [75, 25]],\n",
    "              np.int32)\n",
    "isClosed = True\n",
    "color = (34, 65, 2)\n",
    "thickness = 2\n",
    "\n",
    "# polylines(img, pts, isClosed, color[, thickness[, lineType[, shift]]]) -> img\n",
    "cv2.polylines(img_resize, [pts], isClosed, color, thickness)\n",
    "\n",
    "############# print text\n",
    "\n",
    "# putText(img, text, org, fontFace, fontScale, color[, thickness[, lineType[, bottomLeftOrigin]]]) -> img\n",
    "cv2.putText(img_resize, \"octagon\", (50, 100), cv2.FONT_HERSHEY_SCRIPT_SIMPLEX, 1, (200, 20, 200), 2)\n",
    "\n",
    "# show image\n",
    "cv2.imshow(\"Polyline on Model\", img_resize)\n",
    "\n",
    "cv2.waitKey(0)\n",
    "cv2.destroyAllWindows()"
   ]
  },
  {
   "cell_type": "code",
   "execution_count": null,
   "id": "c62811b3",
   "metadata": {},
   "outputs": [],
   "source": []
  }
 ],
 "metadata": {
  "kernelspec": {
   "display_name": "Python 3",
   "language": "python",
   "name": "python3"
  },
  "language_info": {
   "codemirror_mode": {
    "name": "ipython",
    "version": 3
   },
   "file_extension": ".py",
   "mimetype": "text/x-python",
   "name": "python",
   "nbconvert_exporter": "python",
   "pygments_lexer": "ipython3",
   "version": "3.7.11"
  }
 },
 "nbformat": 4,
 "nbformat_minor": 5
}
