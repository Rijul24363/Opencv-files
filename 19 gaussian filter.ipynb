{
 "cells": [
  {
   "cell_type": "code",
   "execution_count": 3,
   "id": "6a2f8625",
   "metadata": {},
   "outputs": [],
   "source": [
    "import cv2\n",
    "import numpy as np"
   ]
  },
  {
   "cell_type": "code",
   "execution_count": 8,
   "id": "3d656a80",
   "metadata": {},
   "outputs": [],
   "source": [
    "img_path = r\"C:\\Users\\photos\\happy-1836445_1920.jpg\"\n",
    "\n",
    "img = cv2.imread(img_path)\n",
    "img = cv2.resize(img, (1280, 720))\n",
    "\n",
    "cv2.imshow(\"Model Image\", img)\n",
    "\n",
    "cv2.waitKey(0)\n",
    "cv2.destroyAllWindows()"
   ]
  },
  {
   "cell_type": "markdown",
   "id": "f7ecdc4d",
   "metadata": {},
   "source": [
    "# Blur image using Gaussian blur"
   ]
  },
  {
   "cell_type": "code",
   "execution_count": 11,
   "id": "5610b8dd",
   "metadata": {},
   "outputs": [],
   "source": [
    "# GaussianBlur(src, ksize, sigmaX[, dst[, sigmaY[, borderType]]]) -> dst\n",
    "blur_img = cv2.GaussianBlur(img, (3, 3), sigmaX = 34, sigmaY = 36)\n",
    "\n",
    "cv2.imshow(\"Blur Image\", blur_img)\n",
    "cv2.imshow(\"Original image\", img)\n",
    "\n",
    "cv2.waitKey(0)\n",
    "cv2.destroyAllWindows()"
   ]
  },
  {
   "cell_type": "code",
   "execution_count": 13,
   "id": "ab7fe13d",
   "metadata": {},
   "outputs": [],
   "source": [
    "blur_img = cv2.GaussianBlur(img, (51, 51), sigmaX = 4, sigmaY = 3)   # take ksize odd numbers because if u taken even number then it will show error\n",
    "\n",
    "cv2.imshow(\"Blur Image\", blur_img)\n",
    "cv2.imshow(\"Original image\", img)\n",
    "\n",
    "cv2.waitKey(0)\n",
    "cv2.destroyAllWindows()"
   ]
  },
  {
   "cell_type": "markdown",
   "id": "1d1e56d3",
   "metadata": {},
   "source": [
    "# Stretch image vertically"
   ]
  },
  {
   "cell_type": "code",
   "execution_count": 16,
   "id": "66a60a38",
   "metadata": {},
   "outputs": [],
   "source": [
    "blur_img = cv2.GaussianBlur(img, (1,99), sigmaX = 10, sigmaY = 23)   # take ksize odd numbers because if u taken even number then it will show error\n",
    "\n",
    "cv2.imshow(\"Blur Image\", blur_img)\n",
    "cv2.imshow(\"Original image\", img)\n",
    "\n",
    "cv2.waitKey(0)\n",
    "cv2.destroyAllWindows()"
   ]
  },
  {
   "cell_type": "code",
   "execution_count": null,
   "id": "dab1f67e",
   "metadata": {},
   "outputs": [],
   "source": []
  },
  {
   "cell_type": "markdown",
   "id": "c6f73909",
   "metadata": {},
   "source": [
    "# Strect image horizontally"
   ]
  },
  {
   "cell_type": "code",
   "execution_count": 17,
   "id": "59a9001f",
   "metadata": {},
   "outputs": [],
   "source": [
    "# this is for horizontal stretching\n",
    "\n",
    "blur_img = cv2.GaussianBlur(img, (99,1), sigmaX = 10, sigmaY = 20)   # take ksize odd numbers because if u taken even number then it will show error\n",
    "\n",
    "cv2.imshow(\"Blur Image\", blur_img)\n",
    "cv2.imshow(\"Original image\", img)\n",
    "\n",
    "cv2.waitKey(0)\n",
    "cv2.destroyAllWindows()"
   ]
  },
  {
   "cell_type": "markdown",
   "id": "0ef1becd",
   "metadata": {},
   "source": [
    "# Save blur image"
   ]
  },
  {
   "cell_type": "code",
   "execution_count": 18,
   "id": "36f5cc81",
   "metadata": {},
   "outputs": [
    {
     "data": {
      "text/plain": [
       "True"
      ]
     },
     "execution_count": 18,
     "metadata": {},
     "output_type": "execute_result"
    }
   ],
   "source": [
    "cv2.imwrite(\"blur_img.jpg\", blur_img)"
   ]
  },
  {
   "cell_type": "code",
   "execution_count": null,
   "id": "dea74c5c",
   "metadata": {},
   "outputs": [],
   "source": []
  },
  {
   "cell_type": "code",
   "execution_count": null,
   "id": "464714cf",
   "metadata": {},
   "outputs": [],
   "source": []
  }
 ],
 "metadata": {
  "kernelspec": {
   "display_name": "Python 3",
   "language": "python",
   "name": "python3"
  },
  "language_info": {
   "codemirror_mode": {
    "name": "ipython",
    "version": 3
   },
   "file_extension": ".py",
   "mimetype": "text/x-python",
   "name": "python",
   "nbconvert_exporter": "python",
   "pygments_lexer": "ipython3",
   "version": "3.7.11"
  }
 },
 "nbformat": 4,
 "nbformat_minor": 5
}
