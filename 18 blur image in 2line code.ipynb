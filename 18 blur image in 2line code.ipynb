{
 "cells": [
  {
   "cell_type": "code",
   "execution_count": 1,
   "id": "2a1db2de",
   "metadata": {},
   "outputs": [],
   "source": [
    "import cv2\n",
    "import numpy as np"
   ]
  },
  {
   "cell_type": "code",
   "execution_count": 3,
   "id": "b6885481",
   "metadata": {},
   "outputs": [],
   "source": [
    "# show image\n",
    "img_path = r\"C:\\Users\\photos\\model-2288068_1920.jpg\"\n",
    "\n",
    "img = cv2.imread(img_path)\n",
    "img = cv2.resize(img, (1280, 720))\n",
    "\n",
    "cv2.imshow(\"Model\", img)\n",
    "\n",
    "cv2.waitKey(0)\n",
    "cv2.destroyAllWindows()"
   ]
  },
  {
   "cell_type": "markdown",
   "id": "627ef2e0",
   "metadata": {},
   "source": [
    "# Blurring techniques\n",
    "\n",
    "\n",
    "1. Averaging \n",
    "\n",
    "2. Gaussian Filtering\n",
    "\n",
    "3. Median Filtering\n",
    "\n",
    "4. Bilateral Filtering"
   ]
  },
  {
   "cell_type": "markdown",
   "id": "4f582346",
   "metadata": {},
   "source": [
    "# All following are done by Averaging Blurring Techniques"
   ]
  },
  {
   "cell_type": "markdown",
   "id": "21896b3a",
   "metadata": {},
   "source": [
    "# blur image using cv2.blur() with kernel 3x3"
   ]
  },
  {
   "cell_type": "code",
   "execution_count": 5,
   "id": "3dc26ab0",
   "metadata": {},
   "outputs": [],
   "source": [
    "# blur(src, ksize[, dst[, anchor[, borderType]]]) -> dst\n",
    "img_blur_3 = cv2.blur(img, (3,3))\n",
    "\n",
    "cv2.imshow(\"Model Blur\", img_blur_3)\n",
    "cv2.imshow(\"Model\", img)\n",
    "\n",
    "cv2.waitKey(0)\n",
    "cv2.destroyAllWindows()"
   ]
  },
  {
   "cell_type": "code",
   "execution_count": null,
   "id": "4ed85549",
   "metadata": {},
   "outputs": [],
   "source": []
  },
  {
   "cell_type": "markdown",
   "id": "7fd3d73c",
   "metadata": {},
   "source": [
    "# blur image using cv2.blur() with kernel 50x50"
   ]
  },
  {
   "cell_type": "code",
   "execution_count": 6,
   "id": "da25b447",
   "metadata": {},
   "outputs": [],
   "source": [
    "# blur(src, ksize[, dst[, anchor[, borderType]]]) -> dst\n",
    "img_blur_50 = cv2.blur(img, (50,50))\n",
    "\n",
    "cv2.imshow(\"Model Blur\", img_blur_50)\n",
    "cv2.imshow(\"Model\", img)\n",
    "\n",
    "cv2.waitKey(0)\n",
    "cv2.destroyAllWindows()"
   ]
  },
  {
   "cell_type": "code",
   "execution_count": null,
   "id": "51b4e803",
   "metadata": {},
   "outputs": [],
   "source": []
  },
  {
   "cell_type": "markdown",
   "id": "fed58a57",
   "metadata": {},
   "source": [
    "# blur image using cv2.boxfilter() with kernel 3x3"
   ]
  },
  {
   "cell_type": "code",
   "execution_count": 7,
   "id": "6b35e8f0",
   "metadata": {},
   "outputs": [],
   "source": [
    "# boxFilter(src, ddepth, ksize[, dst[, anchor[, normalize[, borderType]]]]) -> dst\n",
    "img_box_3 = cv2.boxFilter(img, -1, (3,3))\n",
    "\n",
    "cv2.imshow(\"Model Blur\", img_box_3)\n",
    "cv2.imshow(\"Model\", img)\n",
    "\n",
    "cv2.waitKey(0)\n",
    "cv2.destroyAllWindows()"
   ]
  },
  {
   "cell_type": "code",
   "execution_count": 9,
   "id": "742b760d",
   "metadata": {},
   "outputs": [],
   "source": [
    "# boxFilter(src, ddepth, ksize[, dst[, anchor[, normalize[, borderType]]]]) -> dst\n",
    "img_box_3 = cv2.boxFilter(img, -1, (3,3), normalize = False)\n",
    "\n",
    "cv2.imshow(\"Model Blur normalize\", img_box_3)\n",
    "cv2.imshow(\"Model\", img)\n",
    "\n",
    "cv2.waitKey(0)\n",
    "cv2.destroyAllWindows()"
   ]
  },
  {
   "cell_type": "markdown",
   "id": "02864494",
   "metadata": {},
   "source": [
    "# blur image using cv2.boxfilter() with kernel 50x50 "
   ]
  },
  {
   "cell_type": "code",
   "execution_count": 10,
   "id": "5c569541",
   "metadata": {},
   "outputs": [],
   "source": [
    "# boxFilter(src, ddepth, ksize[, dst[, anchor[, normalize[, borderType]]]]) -> dst\n",
    "img_box_50 = cv2.boxFilter(img, -1, (50,50))\n",
    "\n",
    "cv2.imshow(\"Model Blur\", img_box_50)\n",
    "cv2.imshow(\"Model\", img)\n",
    "\n",
    "cv2.waitKey(0)\n",
    "cv2.destroyAllWindows()"
   ]
  },
  {
   "cell_type": "code",
   "execution_count": null,
   "id": "b5e62808",
   "metadata": {},
   "outputs": [],
   "source": []
  },
  {
   "cell_type": "markdown",
   "id": "343a7026",
   "metadata": {},
   "source": [
    "# show all blur images"
   ]
  },
  {
   "cell_type": "code",
   "execution_count": 12,
   "id": "a57b5115",
   "metadata": {},
   "outputs": [],
   "source": [
    "img_blur_3 = cv2.resize(img_blur_3, (650, 400))\n",
    "img_blur_50 = cv2.resize(img_blur_50, (650, 400))\n",
    "\n",
    "img_box_3 = cv2.resize(img_box_3, (650, 400))\n",
    "img_box_50 = cv2.resize(img_box_50, (650, 400))\n",
    "\n",
    "cv2.putText(img_blur_3, \"blur 3x3\", (10, 50), cv2.FONT_HERSHEY_COMPLEX, 2, (255,0,255),3)\n",
    "cv2.putText(img_blur_50, \"blur 50x50\", (10, 50), cv2.FONT_HERSHEY_COMPLEX, 2, (255,0,255),3)\n",
    "cv2.putText(img_box_3, \"box 3x3\", (10, 50), cv2.FONT_HERSHEY_COMPLEX, 2, (255,0,255),3)\n",
    "cv2.putText(img_box_50, \"box 3x3\", (10, 50), cv2.FONT_HERSHEY_COMPLEX, 2, (255,0,255),3)\n",
    "\n",
    "blurr_2_img = np.hstack((img_blur_3, img_blur_50))\n",
    "filter_blur_2_img = np.hstack((img_box_3, img_box_50))\n",
    "\n",
    "img_4 = np.vstack((blurr_2_img, filter_blur_2_img))\n",
    "\n",
    "cv2.imshow(\"show 4 blur image\", img_4)\n",
    "\n",
    "cv2.waitKey(0)\n",
    "cv2.destroyAllWindows()"
   ]
  },
  {
   "cell_type": "markdown",
   "id": "7baefb8e",
   "metadata": {},
   "source": [
    "# Blur image in 2 line code"
   ]
  },
  {
   "cell_type": "code",
   "execution_count": 13,
   "id": "3e7cf43f",
   "metadata": {},
   "outputs": [],
   "source": [
    "import cv2\n",
    "\n",
    "cv2.imshow(\"blur image\", cv2.blur(cv2.imread(r\"C:\\Users\\photos\\model-2288068_1920.jpg\"), (50,50)))\n",
    "\n",
    "cv2.waitKey(0)\n",
    "cv2.destroyAllWindows()"
   ]
  },
  {
   "cell_type": "code",
   "execution_count": null,
   "id": "1b4fb58f",
   "metadata": {},
   "outputs": [],
   "source": []
  },
  {
   "cell_type": "code",
   "execution_count": null,
   "id": "f01bd723",
   "metadata": {},
   "outputs": [],
   "source": []
  }
 ],
 "metadata": {
  "kernelspec": {
   "display_name": "Python 3",
   "language": "python",
   "name": "python3"
  },
  "language_info": {
   "codemirror_mode": {
    "name": "ipython",
    "version": 3
   },
   "file_extension": ".py",
   "mimetype": "text/x-python",
   "name": "python",
   "nbconvert_exporter": "python",
   "pygments_lexer": "ipython3",
   "version": "3.7.11"
  }
 },
 "nbformat": 4,
 "nbformat_minor": 5
}
