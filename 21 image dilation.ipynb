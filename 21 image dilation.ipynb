{
 "cells": [
  {
   "cell_type": "code",
   "execution_count": 1,
   "id": "0b3b9099",
   "metadata": {},
   "outputs": [],
   "source": [
    "import cv2\n",
    "import numpy as np"
   ]
  },
  {
   "cell_type": "code",
   "execution_count": 2,
   "id": "14b0e1f1",
   "metadata": {},
   "outputs": [],
   "source": [
    "img_path_road = r\"C:\\Users\\photos\\rainbow-1149610_1920.jpg\"\n",
    "img_path_girl = r\"C:\\Users\\photos\\model-2288068_1920.jpg\"\n",
    "img_path_business = r\"C:\\Users\\photos\\business-woman-2071342_1920.jpg\"\n",
    "\n",
    "img_road = cv2.imread(img_path_road, 0)\n",
    "img_business = cv2.imread(img_path_business, 0)\n",
    "img_girl = cv2.imread(img_path_girl, 0)\n",
    "\n",
    "img_road = cv2.resize(img_road, (600, 400))\n",
    "img_girl = cv2.resize(img_girl, (600, 400))\n",
    "\n",
    "cv2.imshow(\"Image road\", img_road)\n",
    "cv2.imshow(\"Image business\", img_business)\n",
    "cv2.imshow(\"Image girl\", img_girl)\n",
    "\n",
    "cv2.waitKey(0)\n",
    "cv2.destroyAllWindows()"
   ]
  },
  {
   "cell_type": "code",
   "execution_count": 3,
   "id": "ad56e4df",
   "metadata": {},
   "outputs": [
    {
     "data": {
      "text/plain": [
       "array([[1, 1, 1, 1, 1],\n",
       "       [1, 1, 1, 1, 1],\n",
       "       [1, 1, 1, 1, 1],\n",
       "       [1, 1, 1, 1, 1],\n",
       "       [1, 1, 1, 1, 1]], dtype=uint8)"
      ]
     },
     "execution_count": 3,
     "metadata": {},
     "output_type": "execute_result"
    }
   ],
   "source": [
    "kernel = np.ones((5,5), dtype = \"uint8\")\n",
    "kernel"
   ]
  },
  {
   "cell_type": "markdown",
   "id": "84f0ab9d",
   "metadata": {},
   "source": [
    "# Dilation"
   ]
  },
  {
   "cell_type": "code",
   "execution_count": 4,
   "id": "04534c15",
   "metadata": {},
   "outputs": [],
   "source": [
    "# dilate(src, kernel[, dst[, anchor[, iterations[, borderType[, borderValue]]]]]) -> dst\n",
    "dilated_img = cv2.dilate(img_girl, kernel, iterations=1)\n",
    "\n",
    "img_girl_dilated_img = np.hstack((img_girl, dilated_img))\n",
    "\n",
    "cv2.imshow(\"Image dilate\", img_girl_dilated_img)\n",
    "cv2.waitKey(0)\n",
    "cv2.destroyAllWindows()"
   ]
  },
  {
   "cell_type": "code",
   "execution_count": 5,
   "id": "2381752c",
   "metadata": {},
   "outputs": [],
   "source": [
    "dilated_img = cv2.dilate(img_road, kernel, iterations=1)\n",
    "\n",
    "img_road_dilated_img = np.hstack((img_road, dilated_img))\n",
    "\n",
    "cv2.imshow(\"Image dilate\", img_road_dilated_img)\n",
    "cv2.waitKey(0)\n",
    "cv2.destroyAllWindows()"
   ]
  },
  {
   "cell_type": "code",
   "execution_count": 7,
   "id": "f8c9473b",
   "metadata": {},
   "outputs": [],
   "source": [
    "dilated_img = cv2.dilate(img_business, kernel, iterations=1)\n",
    "\n",
    "img_business_dilated_img = np.hstack((img_business, dilated_img))\n",
    "\n",
    "cv2.imshow(\"Image dilate\", img_business_dilated_img)\n",
    "cv2.waitKey(0)\n",
    "cv2.destroyAllWindows()"
   ]
  },
  {
   "cell_type": "code",
   "execution_count": null,
   "id": "f9225d7d",
   "metadata": {},
   "outputs": [],
   "source": []
  }
 ],
 "metadata": {
  "kernelspec": {
   "display_name": "Python 3",
   "language": "python",
   "name": "python3"
  },
  "language_info": {
   "codemirror_mode": {
    "name": "ipython",
    "version": 3
   },
   "file_extension": ".py",
   "mimetype": "text/x-python",
   "name": "python",
   "nbconvert_exporter": "python",
   "pygments_lexer": "ipython3",
   "version": "3.7.11"
  }
 },
 "nbformat": 4,
 "nbformat_minor": 5
}
