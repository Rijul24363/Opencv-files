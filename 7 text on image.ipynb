{
 "cells": [
  {
   "cell_type": "markdown",
   "id": "a36aa7a5",
   "metadata": {},
   "source": [
    "# How to write text on image"
   ]
  },
  {
   "cell_type": "markdown",
   "id": "782aac91",
   "metadata": {},
   "source": [
    "# syntax: cv2.putText(image, text, org, font, fontScale, color, [,thickness[, lineType[, bottomLeftOrigin]]])\n",
    "\n",
    "//! only a subset of Hershey fonts\n",
    "\n",
    "enum HersheyFonts{\n",
    "\n",
    "    FONT_HERSHEY_SIMPLEX          =0, //!< normal size sans-serif font\n",
    "    \n",
    "    FONT_HERSHEY_PLAIN            =1, //!< small size sans-serif font\n",
    "    \n",
    "    FONT_HERSHEY_DUPLEX           =2, //!< normal size sans-serif font(more complex than\n",
    "    \n",
    "    \n",
    "FONT_HERSHEY_SIMPLEX)\n",
    "\n",
    "    FONT_HERSHEY_COMPLEX          =3, //!< normal size serif font\n",
    "    \n",
    "    FONT_HERSHEY_TRIPLEX          =4, //!< normal size serif font(more complex than\n",
    "    \n",
    "FONT_HERSHEY_COMPLEX)\n",
    "\n",
    "    FONT_HERSHEY_COMPLEX_SMALL     =5, //!< smaller version of FONT_HERSHEY_COMPLEX\n",
    "    \n",
    "    FONT_HERSHEY_SCRIPT_SIMPLEX    =6, //!< hand-writing style font\n",
    "    \n",
    "    FONT_HERSHEY_SCRIPT_COMPLEX    =7, //!< more complex variant of FONT_HERSHEY_SCRIPT_SIMPLEX\n",
    "    \n",
    "    FONT_ITALIC                    =16, //!< flag for italic font.\n",
    "};"
   ]
  },
  {
   "cell_type": "markdown",
   "id": "bc3060f0",
   "metadata": {},
   "source": [
    "# cv:: LineTypes{\n",
    "\n",
    "    cv::Filled = -1,\n",
    "    \n",
    "    cv:: LINE_4 = -4,\n",
    "    \n",
    "    cv:: LINE_8 = 8,\n",
    "    \n",
    "    cv:: LINE_AA = 16"
   ]
  },
  {
   "cell_type": "markdown",
   "id": "46de6274",
   "metadata": {},
   "source": [
    "# img: The image where ypu want to draw the shapes.\n",
    "\n",
    "# color: color of the shape. for BGR, pass it as a tuple, eg(255,0,0) for blue. For grayscale, just pass the scalar value.\n",
    "\n",
    "# thickness: thickness is the line or circle etc. if -1 is passed for closd figures like circle, it will fill the shape. default thickness = 1\n",
    "\n",
    "# LineType: type of line, whether 8-connected, anti-aliased line etc. by default, it is 8-connected. cv.LINE_AA gives anti-aliased line which looks great for curves.\n",
    "\n",
    "# bottomLeftOrigin: this is an optional parameter. when it is true, the image data origin is at the bottom-left corner. otherwise it is at top left corner.\n",
    "\n",
    "\n",
    "ref py: https://docs.opencv.org/master/dc/da5/tutorial_py_drawing_functions.html\n",
    "ref: https://docs.opencv.org/master/d6/d6e/group_imgproc_draw.html"
   ]
  },
  {
   "cell_type": "code",
   "execution_count": null,
   "id": "f269bd32",
   "metadata": {},
   "outputs": [],
   "source": []
  },
  {
   "cell_type": "code",
   "execution_count": 1,
   "id": "390e7b1c",
   "metadata": {},
   "outputs": [],
   "source": [
    "import cv2\n",
    "import numpy as np"
   ]
  },
  {
   "cell_type": "code",
   "execution_count": 2,
   "id": "22ab9e11",
   "metadata": {},
   "outputs": [],
   "source": [
    "img_path = r\"C:\\Users\\photos\\man-1246028_1920.jpg\"\n",
    "\n",
    "image = cv2.imread(img_path)\n",
    "\n",
    "image = cv2.resize(image, (1280, 720))\n",
    "\n",
    "text = \"Model\"\n",
    "org = (100, 200) #100 is x, 200 is y.\n",
    "font = cv2.FONT_HERSHEY_COMPLEX\n",
    "fontScale = 6\n",
    "\n",
    "color = (0,0,255)  #(b, g, r)\n",
    "thickness = 3\n",
    "lineType = cv2.LINE_AA\n",
    "bottomLeftOrigin= False\n",
    "\n",
    "\n",
    "# cv2.putText(image, text, org, font, fontscale, color[, thickness[. lineType[, bottomleftorigin]]])\n",
    "img_text = cv2.putText(image, text, org, font, fontScale, color, thickness, lineType, bottomLeftOrigin)\n",
    "\n",
    "cv2.imshow(\"Text_image\", img_text)\n",
    "\n",
    "cv2.waitKey(0)\n",
    "cv2.destroyAllWindows()"
   ]
  },
  {
   "cell_type": "code",
   "execution_count": 3,
   "id": "bf621069",
   "metadata": {},
   "outputs": [],
   "source": [
    "#if we want to show the text opposite the put origin true\n",
    "img_path = r\"C:\\Users\\photos\\man-1246028_1920.jpg\"\n",
    "\n",
    "image = cv2.imread(img_path)\n",
    "\n",
    "image = cv2.resize(image, (1280, 720))\n",
    "\n",
    "text = \"Model\"\n",
    "org = (100, 200) #100 is x, 200 is y.\n",
    "font = cv2.FONT_HERSHEY_COMPLEX\n",
    "fontScale = 6\n",
    "\n",
    "color = (0,0,255)  #(b, g, r)\n",
    "thickness = 3\n",
    "lineType = cv2.LINE_AA\n",
    "bottomLeftOrigin= True   \n",
    "\n",
    "\n",
    "# cv2.putText(image, text, org, font, fontscale, color[, thickness[. lineType[, bottomleftorigin]]])\n",
    "img_text = cv2.putText(image, text, org, font, fontScale, color, thickness, lineType, bottomLeftOrigin)\n",
    "\n",
    "cv2.imshow(\"Text_image\", img_text)\n",
    "\n",
    "cv2.waitKey(0)\n",
    "cv2.destroyAllWindows()"
   ]
  },
  {
   "cell_type": "code",
   "execution_count": null,
   "id": "7bdae42e",
   "metadata": {},
   "outputs": [],
   "source": [
    " # if we want that text will be seen and shadow also the we can do following code"
   ]
  },
  {
   "cell_type": "code",
   "execution_count": 4,
   "id": "6f285fe3",
   "metadata": {},
   "outputs": [],
   "source": [
    "img_path = r\"C:\\Users\\photos\\man-1246028_1920.jpg\"\n",
    "\n",
    "image = cv2.imread(img_path)\n",
    "\n",
    "image = cv2.resize(image, (1280, 720))\n",
    "\n",
    "text = \"Model\"\n",
    "org = (100, 200) #100 is x, 200 is y.\n",
    "font = cv2.FONT_HERSHEY_COMPLEX\n",
    "fontScale = 6\n",
    "\n",
    "color = (0,0,255)  #(b, g, r)\n",
    "thickness = 3\n",
    "lineType = cv2.LINE_AA\n",
    "bottomLeftOrigin= True   \n",
    "\n",
    "\n",
    "# cv2.putText(image, text, org, font, fontscale, color[, thickness[. lineType[, bottomleftorigin]]])\n",
    "img_text = cv2.putText(image, text, org, font, fontScale, color, thickness, lineType, bottomLeftOrigin)\n",
    "\n",
    "img_text = cv2.putText(image, text, org, font, fontScale, color, thickness, lineType, bottomLeftOrigin= False)\n",
    "\n",
    "\n",
    "cv2.imshow(\"Text_image\", img_text)\n",
    "\n",
    "cv2.waitKey(0)\n",
    "cv2.destroyAllWindows()"
   ]
  },
  {
   "cell_type": "code",
   "execution_count": null,
   "id": "eca8a3a6",
   "metadata": {},
   "outputs": [],
   "source": []
  }
 ],
 "metadata": {
  "kernelspec": {
   "display_name": "Python 3",
   "language": "python",
   "name": "python3"
  },
  "language_info": {
   "codemirror_mode": {
    "name": "ipython",
    "version": 3
   },
   "file_extension": ".py",
   "mimetype": "text/x-python",
   "name": "python",
   "nbconvert_exporter": "python",
   "pygments_lexer": "ipython3",
   "version": "3.7.11"
  }
 },
 "nbformat": 4,
 "nbformat_minor": 5
}
