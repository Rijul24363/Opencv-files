{
 "cells": [
  {
   "cell_type": "markdown",
   "id": "6c81497b",
   "metadata": {},
   "source": [
    "# create videos ffrom numpy array and images"
   ]
  },
  {
   "cell_type": "markdown",
   "id": "5a175c5f",
   "metadata": {},
   "source": [
    "# video from numpy array\n"
   ]
  },
  {
   "cell_type": "code",
   "execution_count": 1,
   "id": "a669d2f0",
   "metadata": {},
   "outputs": [],
   "source": [
    "# importing libraries"
   ]
  },
  {
   "cell_type": "code",
   "execution_count": 1,
   "id": "5c5f6e87",
   "metadata": {},
   "outputs": [],
   "source": [
    "import numpy as np\n",
    "import cv2\n",
    "import os"
   ]
  },
  {
   "cell_type": "code",
   "execution_count": 7,
   "id": "cbf6f5e8",
   "metadata": {},
   "outputs": [],
   "source": [
    "width = 1280\n",
    "height = 720\n",
    "channel = 3\n",
    "\n",
    "fps = 30\n",
    "sec = 5\n",
    "\n",
    "fourcc = cv2.VideoWriter_fourcc(*'MP42')   #fourcc means four code.  iski website hai fourcc.org isme alg alg codes hai jo hum likh skte hai. fourcc is 4 byte code.\n",
    "\n",
    "video = cv2.VideoWriter('test.avi', fourcc, float(fps), (width, height))  #test.mp4 is the name of the video, fourcc means which decoder want to use, float(fps) means frame kitni rhegi, and then width or height .\n",
    "\n",
    "for frame_count in range(fps*sec):\n",
    "    img =  np.random.randint(0, 255, (height, width, channel), dtype = np.uint8)\n",
    "    video.write(img)\n",
    "    \n",
    "video.release()"
   ]
  },
  {
   "cell_type": "markdown",
   "id": "a34fd5a5",
   "metadata": {},
   "source": [
    "# video from images"
   ]
  },
  {
   "cell_type": "code",
   "execution_count": 6,
   "id": "834814ee",
   "metadata": {},
   "outputs": [],
   "source": [
    "width = 1280\n",
    "height = 720\n",
    "channel = 3\n",
    "\n",
    "fps = 10\n",
    "sec = 5\n",
    "\n",
    "fourcc = cv2.VideoWriter_fourcc(*'MP42')   #fourcc means four code.  iski website hai fourcc.org isme alg alg codes hai jo hum likh skte hai. fourcc is 4 byte code.\n",
    "\n",
    "video = cv2.VideoWriter('image_to_video.avi', fourcc, float(fps), (width, height))  #test.mp4 is the name of the video, fourcc means which decoder want to use, float(fps) means frame kitni rhegi, and then width or height .\n",
    "\n",
    "'''for frame_count in range(fps*sec):\n",
    "    img =  np.random.randint(0, 255, (height, width, channel), dtype = np.uint8)\n",
    "    video.write(img)'''\n",
    "\n",
    "directory = r'C:\\Users\\photos'\n",
    "\n",
    "img_name_list = os.listdir(directory)\n",
    "\n",
    "for frame_count in range (fps*sec):\n",
    "    img_name = np.random.choice(img_name_list)\n",
    "    img_path = os.path.join(directory, img_name)\n",
    "    img = cv2.imread(img_path)\n",
    "    img_resize = cv2.resize(img, (width, height))\n",
    "    \n",
    "    video.write(img_resize)\n",
    "    \n",
    "video.release()"
   ]
  },
  {
   "cell_type": "code",
   "execution_count": null,
   "id": "2c72074f",
   "metadata": {},
   "outputs": [],
   "source": []
  }
 ],
 "metadata": {
  "kernelspec": {
   "display_name": "Python 3",
   "language": "python",
   "name": "python3"
  },
  "language_info": {
   "codemirror_mode": {
    "name": "ipython",
    "version": 3
   },
   "file_extension": ".py",
   "mimetype": "text/x-python",
   "name": "python",
   "nbconvert_exporter": "python",
   "pygments_lexer": "ipython3",
   "version": "3.7.11"
  }
 },
 "nbformat": 4,
 "nbformat_minor": 5
}
