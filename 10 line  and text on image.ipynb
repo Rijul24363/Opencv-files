{
 "cells": [
  {
   "cell_type": "code",
   "execution_count": 13,
   "id": "2fe1a0fb",
   "metadata": {},
   "outputs": [],
   "source": [
    "import cv2\n",
    "import numpy as np\n",
    "import os"
   ]
  },
  {
   "cell_type": "code",
   "execution_count": 14,
   "id": "18964902",
   "metadata": {},
   "outputs": [],
   "source": [
    "# show image\n",
    "img_path = r\"C:\\Users\\photos\\man-1718099_1920.jpg\"\n",
    "\n",
    "img = cv2.imread(img_path)\n",
    "img_resize = cv2.resize(img, (1280, 720))\n",
    "\n",
    "cv2.imshow(\"Model Image\", img_resize)\n",
    "cv2.waitKey(0)\n",
    "cv2.destroyAllWindows()"
   ]
  },
  {
   "cell_type": "markdown",
   "id": "4bbbd916",
   "metadata": {},
   "source": [
    "# Line on image"
   ]
  },
  {
   "cell_type": "code",
   "execution_count": 15,
   "id": "73c0c6b0",
   "metadata": {},
   "outputs": [],
   "source": [
    "img_path = r\"C:\\Users\\photos\\man-1718099_1920.jpg\"\n",
    "\n",
    "img = cv2.imread(img_path)\n",
    "img_resize = cv2.resize(img, (1280, 720))\n",
    "\n",
    "pt1 = (500, 80)\n",
    "pt2 = (1050, 80)\n",
    "color = (23, 200, 45)\n",
    "thickness = 5 #linetype & shift is not important , if u want to give then u can give.\n",
    "# line(img, pt1, pt2, color[, thickness[, lineType[, shift]]]) -> img\n",
    "cv2.line(img_resize, pt1, pt2, color, thickness)\n",
    "\n",
    "cv2.imshow(\"Model Image\", img_resize)\n",
    "cv2.waitKey(0)\n",
    "cv2.destroyAllWindows()"
   ]
  },
  {
   "cell_type": "markdown",
   "id": "5e60b33b",
   "metadata": {},
   "source": [
    "# multiple lines on image"
   ]
  },
  {
   "cell_type": "code",
   "execution_count": 16,
   "id": "75f973bf",
   "metadata": {},
   "outputs": [],
   "source": [
    "img_path = r\"C:\\Users\\photos\\man-1718099_1920.jpg\"\n",
    "\n",
    "img = cv2.imread(img_path)\n",
    "img_resize = cv2.resize(img, (1280, 720))\n",
    "\n",
    "pt1 = (500, 80)\n",
    "pt2 = (1050, 80)\n",
    "color = (23, 200, 45)\n",
    "thickness = 5 #linetype & shift is not important , if u want to give then u can give.\n",
    "\n",
    "\n",
    "#line(img, pt1, pt2, color[, thickness[, lineType[, shift]]]) -> img\n",
    "cv2.line(img_resize, pt1, pt2, color, thickness)\n",
    "\n",
    "\n",
    "thickness2 = 1\n",
    "color2 = (12, 43, 200)\n",
    "cv2.line(img_resize, pt1, pt2, color2, thickness2)\n",
    "\n",
    "\n",
    "pt1 = (500, 400)\n",
    "pt2 = (1050, 400)\n",
    "cv2.line(img_resize, pt1, pt2, color, thickness)\n",
    "cv2.line(img_resize, pt1, pt2, color2, thickness2)\n",
    "\n",
    "\n",
    "cv2.imshow(\"Model Image\", img_resize)\n",
    "cv2.waitKey(0)\n",
    "cv2.destroyAllWindows()"
   ]
  },
  {
   "cell_type": "markdown",
   "id": "55843e2f",
   "metadata": {},
   "source": [
    "# Line & Text on image"
   ]
  },
  {
   "cell_type": "code",
   "execution_count": 18,
   "id": "f10a5ba4",
   "metadata": {},
   "outputs": [],
   "source": [
    "# line with text\n",
    "\n",
    "# draw line\n",
    "\n",
    "img_path = r\"C:\\Users\\photos\\man-1718099_1920.jpg\"\n",
    "\n",
    "img = cv2.imread(img_path)\n",
    "img_resize = cv2.resize(img, (1280, 720))\n",
    "\n",
    "pt1 = (500, 80)\n",
    "pt2 = (1050, 80)\n",
    "color = (23, 200, 45)\n",
    "thickness = 8\n",
    "\n",
    "#line(img, pt1, pt2, color[, thickness[, lineType[, shift]]]) -> img\n",
    "cv2.line(img_resize, pt1, pt2, color, thickness)\n",
    "\n",
    "# putText(img, text, org, fontFace, fontScale, color[, thickness[, lineType[, bottomLeftOrigin]]]) -> img\n",
    "cv2.putText(img_resize, \"Model smile\", (600, 60), cv2.FONT_HERSHEY_SCRIPT_SIMPLEX, 2, (34,200,200), 3)\n",
    "\n",
    "cv2.imshow(\"Model Image\", img_resize)\n",
    "cv2.waitKey(0)\n",
    "cv2.destroyAllWindows()\n",
    "\n"
   ]
  },
  {
   "cell_type": "code",
   "execution_count": null,
   "id": "d2b3ec81",
   "metadata": {},
   "outputs": [],
   "source": []
  }
 ],
 "metadata": {
  "kernelspec": {
   "display_name": "Python 3",
   "language": "python",
   "name": "python3"
  },
  "language_info": {
   "codemirror_mode": {
    "name": "ipython",
    "version": 3
   },
   "file_extension": ".py",
   "mimetype": "text/x-python",
   "name": "python",
   "nbconvert_exporter": "python",
   "pygments_lexer": "ipython3",
   "version": "3.7.11"
  }
 },
 "nbformat": 4,
 "nbformat_minor": 5
}
