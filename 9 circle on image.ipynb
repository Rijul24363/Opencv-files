{
 "cells": [
  {
   "cell_type": "markdown",
   "id": "46daacde",
   "metadata": {},
   "source": [
    "# Draw a circle using opencv on numpy array or image"
   ]
  },
  {
   "cell_type": "code",
   "execution_count": 2,
   "id": "cb28f8b4",
   "metadata": {},
   "outputs": [],
   "source": [
    "#show image\n",
    "\n",
    "import cv2\n",
    "\n",
    "img_path = r\"C:\\Users\\photos\\beautiful-1434835_1920.jpg\"\n",
    "\n",
    "image = cv2.imread(img_path)\n",
    "img_resize = cv2.resize(image, (1280, 720))\n",
    "\n",
    "cv2.imshow(\"Model Image\", img_resize)\n",
    "\n",
    "cv2.waitKey(0)\n",
    "cv2.destroyAllWindows()"
   ]
  },
  {
   "cell_type": "markdown",
   "id": "fca52a2c",
   "metadata": {},
   "source": [
    "# Draw a circle on image"
   ]
  },
  {
   "cell_type": "code",
   "execution_count": 7,
   "id": "bc5c2aca",
   "metadata": {},
   "outputs": [],
   "source": [
    "import cv2\n",
    "\n",
    "img_path = r\"C:\\Users\\photos\\beautiful-1434835_1920.jpg\"\n",
    "\n",
    "image = cv2.imread(img_path)\n",
    "img_resize = cv2.resize(image, (1280, 720))\n",
    "\n",
    "center = (500, 200)\n",
    "radius = 130\n",
    "color = (23, 220, 75)\n",
    "thickness = 3\n",
    "lineType = cv2.LINE_8\n",
    "shift = 0\n",
    "\n",
    "#circle(img, center, radius, color[, thickness[, lineType[, shift]]])\n",
    "cv2.circle(img_resize, center, radius, color, thickness, lineType, shift)\n",
    "\n",
    "cv2.imshow(\"Model Image\", img_resize)\n",
    "\n",
    "cv2.waitKey(0)\n",
    "cv2.destroyAllWindows()"
   ]
  },
  {
   "cell_type": "markdown",
   "id": "c4baead9",
   "metadata": {},
   "source": [
    "# Fill circle on image"
   ]
  },
  {
   "cell_type": "code",
   "execution_count": 8,
   "id": "ec0ad24b",
   "metadata": {},
   "outputs": [],
   "source": [
    "import cv2\n",
    "\n",
    "img_path = r\"C:\\Users\\photos\\beautiful-1434835_1920.jpg\"\n",
    "\n",
    "image = cv2.imread(img_path)\n",
    "img_resize = cv2.resize(image, (1280, 720))\n",
    "\n",
    "center = (500, 200)\n",
    "radius = 130\n",
    "color = (23, 220, 75)\n",
    "thickness = -1\n",
    "lineType = cv2.LINE_8\n",
    "shift = 0\n",
    "\n",
    "#circle(img, center, radius, color[, thickness[, lineType[, shift]]])\n",
    "cv2.circle(img_resize, center, radius, color, thickness, lineType, shift)\n",
    "\n",
    "cv2.imshow(\"Model Image\", img_resize)\n",
    "\n",
    "cv2.waitKey(0)\n",
    "cv2.destroyAllWindows()"
   ]
  },
  {
   "cell_type": "markdown",
   "id": "cc29dee7",
   "metadata": {},
   "source": [
    "# Draw two circles"
   ]
  },
  {
   "cell_type": "code",
   "execution_count": 12,
   "id": "febd72fa",
   "metadata": {},
   "outputs": [],
   "source": [
    "import cv2\n",
    "\n",
    "img_path = r\"C:\\Users\\photos\\beautiful-1434835_1920.jpg\"\n",
    "\n",
    "image = cv2.imread(img_path)\n",
    "img_resize = cv2.resize(image, (1280, 720))\n",
    "\n",
    "center = (500, 200)   #500 is x,  200 is y\n",
    "radius = 130\n",
    "color = (23, 220, 75)\n",
    "thickness = 5\n",
    "lineType = cv2.LINE_8\n",
    "shift = 0\n",
    "\n",
    "#circle(img, center, radius, color[, thickness[, lineType[, shift]]])\n",
    "cv2.circle(img_resize, center, radius, color, thickness, lineType, shift)\n",
    "\n",
    "center2 = (500, 390)   #500 is x, 390 is y\n",
    "radius2 = 80\n",
    "color2 = (36, 90, 19)\n",
    "cv2.circle(img_resize, center2, radius2, color2, thickness, lineType, shift)\n",
    "\n",
    "\n",
    "cv2.imshow(\"Model Image\", img_resize)\n",
    "\n",
    "cv2.waitKey(0)\n",
    "cv2.destroyAllWindows()"
   ]
  },
  {
   "cell_type": "markdown",
   "id": "0e411608",
   "metadata": {},
   "source": [
    "# Draw Multiple circles and text"
   ]
  },
  {
   "cell_type": "code",
   "execution_count": 13,
   "id": "2ce3d46d",
   "metadata": {},
   "outputs": [],
   "source": [
    "img_path = r\"C:\\Users\\photos\\beautiful-1434835_1920.jpg\"\n",
    "\n",
    "image = cv2.imread(img_path)\n",
    "img_resize = cv2.resize(image, (1280, 720))\n",
    "\n",
    "#circle(img, center, radius, color[, thickness[, lineType[, shift]]])\n",
    "\n",
    "center = (500, 250)   #500 is x,  200 is y\n",
    "radius = 130\n",
    "color = (23, 68, 235)\n",
    "thickness = 6\n",
    "lineType = cv2.LINE_4\n",
    "shift = 0\n",
    "\n",
    "color2 = (255, 0, 0)\n",
    "radius2 = 120\n",
    "\n",
    "color3 = (0, 255, 0)\n",
    "radius3 = 110\n",
    "\n",
    "color4 = (0, 0, 255)\n",
    "radius4 = 100\n",
    "\n",
    "color5 = (85, 87, 93)\n",
    "radius5 = 90\n",
    "\n",
    "color6 = (65, 207, 203)\n",
    "radius6 = 80\n",
    "\n",
    "color7 = (65, 207, 203)\n",
    "radius7 = 80\n",
    "\n",
    "cv2.circle(img_resize, center, radius, color, thickness, lineType, shift)\n",
    "cv2.circle(img_resize, center, radius2, color2, thickness, lineType, shift)\n",
    "cv2.circle(img_resize, center, radius3, color3, thickness, lineType, shift)\n",
    "cv2.circle(img_resize, center, radius4, color4, thickness, lineType, shift)\n",
    "cv2.circle(img_resize, center, radius5, color5, thickness, lineType, shift)\n",
    "cv2.circle(img_resize, center, radius6, color6, thickness, lineType, shift)\n",
    "cv2.circle(img_resize, center, radius7, color7, thickness, lineType, shift)\n",
    "\n",
    "\n",
    "# putText(img, text, org, fontFace, fontScale, color[, thickness[, lineType[, bottomLeftOrigin]]]) -> img\n",
    "cv2.putText(img_resize, \"Model face\", (410, 110), cv2.FONT_HERSHEY_COMPLEX_SMALL, 3, (0, 255, 0), 3)\n",
    "\n",
    "cv2.imshow(\"Model Image\", img_resize)\n",
    "\n",
    "cv2.waitKey(0)\n",
    "cv2.destroyAllWindows()"
   ]
  },
  {
   "cell_type": "code",
   "execution_count": null,
   "id": "9b342c32",
   "metadata": {},
   "outputs": [],
   "source": []
  }
 ],
 "metadata": {
  "kernelspec": {
   "display_name": "Python 3",
   "language": "python",
   "name": "python3"
  },
  "language_info": {
   "codemirror_mode": {
    "name": "ipython",
    "version": 3
   },
   "file_extension": ".py",
   "mimetype": "text/x-python",
   "name": "python",
   "nbconvert_exporter": "python",
   "pygments_lexer": "ipython3",
   "version": "3.7.11"
  }
 },
 "nbformat": 4,
 "nbformat_minor": 5
}
