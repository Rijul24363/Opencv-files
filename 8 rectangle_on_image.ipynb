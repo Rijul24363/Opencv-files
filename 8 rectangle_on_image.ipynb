{
 "cells": [
  {
   "cell_type": "markdown",
   "id": "72f3e2ac",
   "metadata": {},
   "source": [
    "# How to draw Rectangle, print text on image? "
   ]
  },
  {
   "cell_type": "code",
   "execution_count": 2,
   "id": "fed8f31d",
   "metadata": {},
   "outputs": [],
   "source": [
    "# importing libraries\n",
    "import cv2\n",
    "import numpy as np\n",
    "import os"
   ]
  },
  {
   "cell_type": "markdown",
   "id": "b6483fdd",
   "metadata": {},
   "source": [
    "# draw rectangle on image"
   ]
  },
  {
   "cell_type": "code",
   "execution_count": 4,
   "id": "288db8fe",
   "metadata": {},
   "outputs": [],
   "source": [
    "#this code is for rectangle on image\n",
    "\n",
    "img_path = r\"C:\\Users\\photos\\hip-hop-1209499_1920.jpg\"\n",
    "\n",
    "image = cv2.imread(img_path)\n",
    "image = cv2.resize(image, (1280, 720))\n",
    "\n",
    "pt1 = (400, 40)  #400 is x1, 40 is  x2\n",
    "pt2 = (800, 300)   #800 is y1, 300 is y2\n",
    "color = (0, 255, 0)\n",
    "thickness = 4\n",
    "lineType = cv2.LINE_4\n",
    "\n",
    "\n",
    "#rectangle(img, pt1, pt2, color[, thickness[, lineType[, shift]]])\n",
    "img_rect = cv2.rectangle(image, pt1, pt2, color, thickness, lineType)\n",
    "\n",
    "cv2.imshow(\"Rectangle on Image\", img_rect)\n",
    "\n",
    "cv2.waitKey(0)\n",
    "cv2.destroyAllWindows()"
   ]
  },
  {
   "cell_type": "markdown",
   "id": "c6d374c7",
   "metadata": {},
   "source": [
    "# fill the rectangle"
   ]
  },
  {
   "cell_type": "code",
   "execution_count": 6,
   "id": "06949552",
   "metadata": {},
   "outputs": [],
   "source": [
    "img_path = r\"C:\\Users\\photos\\hip-hop-1209499_1920.jpg\"\n",
    "\n",
    "image = cv2.imread(img_path)\n",
    "image = cv2.resize(image, (1280, 720))\n",
    "\n",
    "pt1 = (400, 40)  #400 is x1, 40 is  x2\n",
    "pt2 = (800, 300)   #800 is y1, 300 is y2\n",
    "color = (255, 0, 0)\n",
    "thickness = -1       # to fill the rectangle put thickness value -1.\n",
    "lineType = cv2.LINE_4\n",
    "\n",
    "\n",
    "#rectangle(img, pt1, pt2, color[, thickness[, lineType[, shift]]])\n",
    "img_rect = cv2.rectangle(image, pt1, pt2, color, thickness, lineType)\n",
    "\n",
    "cv2.imshow(\"Rectangle on Image\", img_rect)\n",
    "\n",
    "cv2.waitKey(0)\n",
    "cv2.destroyAllWindows()"
   ]
  },
  {
   "cell_type": "markdown",
   "id": "51e5e4b8",
   "metadata": {},
   "source": [
    "# Text on rectangle on image"
   ]
  },
  {
   "cell_type": "code",
   "execution_count": 7,
   "id": "244f5501",
   "metadata": {},
   "outputs": [],
   "source": [
    "img_path = r\"C:\\Users\\photos\\hip-hop-1209499_1920.jpg\"\n",
    "\n",
    "image = cv2.imread(img_path)\n",
    "image = cv2.resize(image, (1280, 720))\n",
    "\n",
    "pt1 = (400, 40)  #400 is x1, 40 is  x2\n",
    "pt2 = (800, 300)   #800 is y1, 300 is y2\n",
    "color = (255, 0, 0)\n",
    "thickness = -1       # to fill the rectangle put thickness value -1.\n",
    "lineType = cv2.LINE_4\n",
    "\n",
    "\n",
    "#rectangle(img, pt1, pt2, color[, thickness[, lineType[, shift]]])\n",
    "img_rect = cv2.rectangle(image, pt1, pt2, color, thickness, lineType)\n",
    "\n",
    "#text on image\n",
    "text = \"Face - 100%\"\n",
    "org = (500, 170) \n",
    "fontFace = cv2.FONT_HERSHEY_SIMPLEX\n",
    "fontScale = 1\n",
    "\n",
    "color = (0,255,25)  #(b, g, r)\n",
    "lineType = cv2.LINE_4   \n",
    "\n",
    "\n",
    "# cv2.putText(image, text, org, font, fontscale, color[, thickness[. lineType[, bottomleftorigin]]])\n",
    "img_text = cv2.putText(img_rect, text, org, fontFace, fontScale, color, lineType)\n",
    "\n",
    "cv2.imshow(\"Rectangle on Image\", img_text)\n",
    "\n",
    "cv2.waitKey(0)\n",
    "cv2.destroyAllWindows()"
   ]
  },
  {
   "cell_type": "markdown",
   "id": "09478755",
   "metadata": {},
   "source": [
    "# Text above rectangle on image "
   ]
  },
  {
   "cell_type": "code",
   "execution_count": 8,
   "id": "741c8f59",
   "metadata": {},
   "outputs": [],
   "source": [
    "img_path = r\"C:\\Users\\photos\\hip-hop-1209499_1920.jpg\"\n",
    "\n",
    "image = cv2.imread(img_path)\n",
    "image = cv2.resize(image, (1280, 720))\n",
    "\n",
    "pt1 = (400, 40)  #400 is x1, 40 is  x2\n",
    "pt2 = (800, 300)   #800 is y1, 300 is y2\n",
    "color = (255, 0, 0)\n",
    "thickness = 4      # to fill the rectangle put thickness value -1.\n",
    "lineType = cv2.LINE_4\n",
    "\n",
    "\n",
    "#rectangle(img, pt1, pt2, color[, thickness[, lineType[, shift]]])\n",
    "img_rect = cv2.rectangle(image, pt1, pt2, color, thickness, lineType)\n",
    "\n",
    "#text on image\n",
    "text = \"Face - 100%\"\n",
    "org = (400, 30) \n",
    "fontFace = cv2.FONT_HERSHEY_SIMPLEX\n",
    "fontScale = 1\n",
    "\n",
    "color = (0,255,25)  #(b, g, r)\n",
    "lineType = cv2.LINE_4   \n",
    "\n",
    "\n",
    "# cv2.putText(image, text, org, font, fontscale, color[, thickness[. lineType[, bottomleftorigin]]])\n",
    "img_text = cv2.putText(img_rect, text, org, fontFace, fontScale, color, lineType)\n",
    "\n",
    "cv2.imshow(\"Rectangle on Image\", img_text)\n",
    "\n",
    "cv2.waitKey(0)\n",
    "cv2.destroyAllWindows()"
   ]
  },
  {
   "cell_type": "markdown",
   "id": "be2d8719",
   "metadata": {},
   "source": [
    "# How to save this rectangle image"
   ]
  },
  {
   "cell_type": "code",
   "execution_count": 9,
   "id": "53f7bff0",
   "metadata": {},
   "outputs": [],
   "source": [
    "img_path = r\"C:\\Users\\photos\\hip-hop-1209499_1920.jpg\"\n",
    "\n",
    "image = cv2.imread(img_path)\n",
    "image = cv2.resize(image, (1280, 720))\n",
    "\n",
    "pt1 = (400, 40)  #400 is x1, 40 is  x2\n",
    "pt2 = (800, 300)   #800 is y1, 300 is y2\n",
    "color = (255, 0, 0)\n",
    "thickness = 4      # to fill the rectangle put thickness value -1.\n",
    "lineType = cv2.LINE_4\n",
    "\n",
    "\n",
    "#rectangle(img, pt1, pt2, color[, thickness[, lineType[, shift]]])\n",
    "img_rect = cv2.rectangle(image, pt1, pt2, color, thickness, lineType)\n",
    "\n",
    "#text on image\n",
    "text = \"Face - 100%\"\n",
    "org = (400, 30) \n",
    "fontFace = cv2.FONT_HERSHEY_SIMPLEX\n",
    "fontScale = 1\n",
    "\n",
    "color = (0,255,25)  #(b, g, r)\n",
    "lineType = cv2.LINE_4   \n",
    "\n",
    "\n",
    "# cv2.putText(image, text, org, font, fontscale, color[, thickness[. lineType[, bottomleftorigin]]])\n",
    "img_text = cv2.putText(img_rect, text, org, fontFace, fontScale, color, lineType)\n",
    "\n",
    "cv2.imwrite(\"image_with_rectangle_text.png\", img_text)     #this code is for save imge.\n",
    "\n",
    "cv2.imshow(\"Rectangle on Image\", img_text)\n",
    "\n",
    "cv2.waitKey(0)\n",
    "cv2.destroyAllWindows()"
   ]
  },
  {
   "cell_type": "code",
   "execution_count": null,
   "id": "ca44cd05",
   "metadata": {},
   "outputs": [],
   "source": []
  }
 ],
 "metadata": {
  "kernelspec": {
   "display_name": "Python 3",
   "language": "python",
   "name": "python3"
  },
  "language_info": {
   "codemirror_mode": {
    "name": "ipython",
    "version": 3
   },
   "file_extension": ".py",
   "mimetype": "text/x-python",
   "name": "python",
   "nbconvert_exporter": "python",
   "pygments_lexer": "ipython3",
   "version": "3.7.11"
  }
 },
 "nbformat": 4,
 "nbformat_minor": 5
}
