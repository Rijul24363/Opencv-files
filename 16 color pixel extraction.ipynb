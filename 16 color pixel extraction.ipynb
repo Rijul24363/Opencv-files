{
 "cells": [
  {
   "cell_type": "markdown",
   "id": "0c4822d6",
   "metadata": {},
   "source": [
    "# Color Pixels Extraction\n",
    "\n",
    "\n",
    "\n",
    "\n",
    "# How to detect Road Marking Using Opencv"
   ]
  },
  {
   "cell_type": "code",
   "execution_count": 1,
   "id": "82dff069",
   "metadata": {},
   "outputs": [],
   "source": [
    "import cv2\n",
    "import numpy as np"
   ]
  },
  {
   "cell_type": "code",
   "execution_count": 3,
   "id": "df617b14",
   "metadata": {},
   "outputs": [],
   "source": [
    "img_path = r\"C:\\Users\\photos\\desert-1845318_1920.jpg\"\n",
    "\n",
    "img = cv2.imread(img_path)\n",
    "img = cv2.resize(img, (1280, 720))\n",
    "\n",
    "cv2.imshow(\"Road Image\", img)\n",
    "\n",
    "cv2.waitKey(0)\n",
    "cv2.destroyAllWindows()"
   ]
  },
  {
   "cell_type": "markdown",
   "id": "fd7a65fc",
   "metadata": {},
   "source": [
    "# Convert image in gray scale"
   ]
  },
  {
   "cell_type": "code",
   "execution_count": 7,
   "id": "6e7856f8",
   "metadata": {},
   "outputs": [],
   "source": [
    "gray_img = cv2.cvtColor(img, cv2.COLOR_BGR2GRAY)\n",
    "\n",
    "cv2.imshow(\"Gray Image\", gray_img)\n",
    "\n",
    "cv2.waitKey(0)\n",
    "cv2.destroyAllWindows()"
   ]
  },
  {
   "cell_type": "markdown",
   "id": "b79bfcbc",
   "metadata": {},
   "source": [
    "# Road margin Detection using Color image"
   ]
  },
  {
   "cell_type": "code",
   "execution_count": 6,
   "id": "aa64142e",
   "metadata": {},
   "outputs": [
    {
     "data": {
      "text/plain": [
       "array([[110, 109, 112, ..., 156, 158, 155],\n",
       "       [114, 111, 121, ..., 154, 153, 158],\n",
       "       [129, 120, 112, ..., 158, 159, 155],\n",
       "       ...,\n",
       "       [ 65,  53,  47, ...,  64,  72,  74],\n",
       "       [ 78,  48,  38, ...,  45,  51,  81],\n",
       "       [ 54,  43,  33, ...,  63,  75,  71]], dtype=uint8)"
      ]
     },
     "execution_count": 6,
     "metadata": {},
     "output_type": "execute_result"
    }
   ],
   "source": [
    "gray_img    ## koi bhi black nd white image ki value 0-255 tkhoti h .. 0 is pure black,   255 = white color."
   ]
  },
  {
   "cell_type": "code",
   "execution_count": 8,
   "id": "a3628fb3",
   "metadata": {},
   "outputs": [],
   "source": [
    "gray_img_copy = np.copy(gray_img)\n",
    "\n",
    "gray_img_copy[gray_img_copy[:, :] < 180]=0   # value 180 se km hogi to true vrna false\n",
    "\n",
    "gray_img = cv2.cvtColor(img, cv2.COLOR_BGR2GRAY)\n",
    "\n",
    "cv2.imshow(\"Gray Image\", gray_img_copy)\n",
    "\n",
    "cv2.waitKey(0)\n",
    "cv2.destroyAllWindows()"
   ]
  },
  {
   "cell_type": "code",
   "execution_count": 9,
   "id": "55b8374c",
   "metadata": {},
   "outputs": [],
   "source": [
    "gray_img_copy = np.copy(gray_img)\n",
    "\n",
    "gray_img_copy[gray_img_copy[:, :] < 200]=0\n",
    "\n",
    "gray_img = cv2.cvtColor(img, cv2.COLOR_BGR2GRAY)\n",
    "\n",
    "cv2.imshow(\"Gray Image\", gray_img_copy)\n",
    "\n",
    "cv2.waitKey(0)\n",
    "cv2.destroyAllWindows()"
   ]
  },
  {
   "cell_type": "code",
   "execution_count": 10,
   "id": "b81d153d",
   "metadata": {},
   "outputs": [
    {
     "data": {
      "text/plain": [
       "array([[ True,  True,  True, ...,  True,  True,  True],\n",
       "       [ True,  True,  True, ...,  True,  True,  True],\n",
       "       [ True,  True,  True, ...,  True,  True,  True],\n",
       "       ...,\n",
       "       [ True,  True,  True, ...,  True,  True,  True],\n",
       "       [ True,  True,  True, ...,  True,  True,  True],\n",
       "       [ True,  True,  True, ...,  True,  True,  True]])"
      ]
     },
     "execution_count": 10,
     "metadata": {},
     "output_type": "execute_result"
    }
   ],
   "source": [
    "gray_img_copy[:, :] < 180"
   ]
  },
  {
   "cell_type": "code",
   "execution_count": 11,
   "id": "3faf7581",
   "metadata": {},
   "outputs": [
    {
     "data": {
      "text/plain": [
       "array([[0, 0, 0, ..., 0, 0, 0],\n",
       "       [0, 0, 0, ..., 0, 0, 0],\n",
       "       [0, 0, 0, ..., 0, 0, 0],\n",
       "       ...,\n",
       "       [0, 0, 0, ..., 0, 0, 0],\n",
       "       [0, 0, 0, ..., 0, 0, 0],\n",
       "       [0, 0, 0, ..., 0, 0, 0]], dtype=uint8)"
      ]
     },
     "execution_count": 11,
     "metadata": {},
     "output_type": "execute_result"
    }
   ],
   "source": [
    "gray_img_copy"
   ]
  },
  {
   "cell_type": "code",
   "execution_count": 12,
   "id": "7ea4fc9d",
   "metadata": {},
   "outputs": [
    {
     "data": {
      "text/plain": [
       "array([  0,   0,   0,   0,   0,   0,   0,   0,   0,   0,   0,   0,   0,\n",
       "         0,   0,   0,   0,   0,   0,   0,   0,   0,   0,   0,   0,   0,\n",
       "         0,   0,   0,   0,   0,   0,   0,   0,   0,   0,   0,   0,   0,\n",
       "         0,   0,   0,   0,   0,   0,   0,   0,   0,   0,   0,   0,   0,\n",
       "         0,   0,   0, 201, 200, 200, 200, 201, 201, 201, 202, 202, 203,\n",
       "       203, 203, 203, 204, 204, 204, 204, 204, 203, 204, 205, 205, 204,\n",
       "       206, 206, 206, 206, 205, 206, 207, 207, 207, 207, 207, 208, 208,\n",
       "       208, 208, 208, 208, 208, 208, 209, 209, 210, 210, 210, 211, 210,\n",
       "       210, 211, 212,   0,   0,   0,   0,   0,   0,   0,   0,   0,   0,\n",
       "         0,   0,   0,   0,   0,   0,   0,   0,   0,   0,   0,   0,   0,\n",
       "         0,   0,   0,   0,   0,   0,   0,   0,   0,   0,   0,   0,   0,\n",
       "         0,   0,   0,   0,   0,   0,   0,   0,   0,   0,   0,   0,   0,\n",
       "         0,   0,   0,   0,   0,   0,   0,   0,   0,   0,   0,   0,   0,\n",
       "         0,   0,   0,   0,   0,   0,   0,   0,   0,   0,   0,   0,   0,\n",
       "         0,   0,   0,   0,   0,   0,   0,   0,   0,   0,   0,   0,   0,\n",
       "         0,   0,   0,   0,   0,   0,   0,   0,   0,   0,   0,   0,   0,\n",
       "         0,   0,   0,   0,   0,   0,   0,   0,   0,   0,   0,   0,   0,\n",
       "         0,   0,   0,   0,   0,   0,   0,   0,   0,   0,   0,   0,   0,\n",
       "         0,   0,   0,   0,   0,   0,   0,   0,   0,   0,   0,   0,   0,\n",
       "         0,   0,   0,   0,   0,   0,   0,   0,   0,   0,   0,   0,   0,\n",
       "         0,   0,   0,   0,   0,   0,   0,   0,   0,   0,   0,   0,   0,\n",
       "         0,   0,   0,   0,   0,   0,   0,   0,   0,   0,   0,   0,   0,\n",
       "         0,   0,   0,   0,   0,   0,   0,   0,   0,   0,   0,   0,   0,\n",
       "         0,   0,   0,   0,   0,   0,   0,   0,   0,   0,   0,   0,   0,\n",
       "         0,   0,   0,   0,   0,   0,   0,   0,   0,   0,   0,   0,   0,\n",
       "         0,   0,   0,   0,   0,   0,   0,   0,   0,   0,   0,   0,   0,\n",
       "       201,   0,   0,   0,   0,   0,   0,   0,   0, 219,   0,   0,   0,\n",
       "       215,   0,   0,   0,   0,   0,   0,   0,   0,   0,   0,   0,   0,\n",
       "         0,   0,   0,   0,   0,   0,   0,   0,   0,   0,   0,   0,   0,\n",
       "         0,   0,   0,   0,   0,   0,   0,   0,   0,   0,   0,   0,   0,\n",
       "         0,   0,   0,   0,   0,   0,   0,   0,   0,   0,   0,   0,   0,\n",
       "         0,   0,   0,   0,   0,   0,   0,   0,   0,   0,   0,   0,   0,\n",
       "         0,   0,   0,   0, 222,   0,   0,   0, 203,   0,   0,   0,   0,\n",
       "       225,   0,   0, 219,   0, 201,   0,   0,   0,   0,   0,   0,   0,\n",
       "         0,   0,   0,   0,   0,   0,   0,   0,   0,   0,   0,   0,   0,\n",
       "         0,   0,   0,   0,   0,   0,   0,   0,   0,   0, 201,   0, 210,\n",
       "         0,   0,   0,   0,   0,   0,   0,   0,   0,   0, 215,   0, 215,\n",
       "         0,   0, 200, 228,   0,   0,   0, 209,   0,   0,   0,   0,   0,\n",
       "         0,   0,   0, 234,   0, 201,   0,   0,   0,   0,   0,   0,   0,\n",
       "         0,   0,   0,   0,   0,   0,   0, 205, 205,   0,   0,   0,   0,\n",
       "         0,   0,   0,   0,   0,   0, 202,   0,   0,   0, 216,   0, 214,\n",
       "         0, 203,   0, 200,   0,   0,   0,   0,   0,   0,   0, 209, 252,\n",
       "       216,   0, 218,   0,   0, 210,   0, 209,   0,   0,   0,   0,   0,\n",
       "         0,   0,   0,   0,   0,   0,   0,   0,   0,   0,   0,   0,   0,\n",
       "         0,   0,   0,   0,   0,   0,   0,   0,   0,   0,   0,   0,   0,\n",
       "         0,   0,   0,   0,   0,   0,   0,   0,   0,   0,   0,   0,   0,\n",
       "         0,   0,   0,   0,   0,   0,   0, 209,   0,   0,   0,   0,   0,\n",
       "         0,   0,   0,   0,   0,   0,   0, 222, 211, 225, 217, 220,   0,\n",
       "         0,   0,   0,   0,   0,   0,   0,   0,   0,   0,   0,   0,   0,\n",
       "         0,   0,   0,   0,   0,   0,   0,   0,   0,   0,   0,   0,   0,\n",
       "         0,   0,   0,   0,   0, 205,   0,   0,   0,   0, 214,   0,   0,\n",
       "         0,   0,   0,   0, 205,   0,   0,   0,   0,   0,   0,   0,   0,\n",
       "       204,   0,   0,   0,   0,   0,   0,   0,   0,   0,   0,   0,   0,\n",
       "         0,   0,   0,   0,   0,   0,   0,   0,   0,   0,   0, 200,   0,\n",
       "         0,   0,   0, 202,   0,   0,   0,   0,   0,   0,   0, 217,   0,\n",
       "         0,   0,   0,   0,   0], dtype=uint8)"
      ]
     },
     "execution_count": 12,
     "metadata": {},
     "output_type": "execute_result"
    }
   ],
   "source": [
    "gray_img_copy[:, 300]"
   ]
  },
  {
   "cell_type": "markdown",
   "id": "89ca72fc",
   "metadata": {},
   "source": [
    "# Road margin detection using color image"
   ]
  },
  {
   "cell_type": "code",
   "execution_count": 13,
   "id": "73e48395",
   "metadata": {},
   "outputs": [
    {
     "data": {
      "text/plain": [
       "(720, 1280, 3)"
      ]
     },
     "execution_count": 13,
     "metadata": {},
     "output_type": "execute_result"
    }
   ],
   "source": [
    "img_copy = np.copy(img)\n",
    "img_copy.shape"
   ]
  },
  {
   "cell_type": "code",
   "execution_count": 14,
   "id": "1dea3402",
   "metadata": {},
   "outputs": [],
   "source": [
    "img_copy[(img_copy[:, :, 0] < 200) | (img_copy[:, :, 1] < 200) | (img_copy[:, :, 2] < 200)] = 0\n",
    "\n",
    "cv2.imshow(\"Color Image\", img_copy)\n",
    "\n",
    "cv2.waitKey(0)\n",
    "cv2.destroyAllWindows()   # if we want noise than use color image"
   ]
  },
  {
   "cell_type": "markdown",
   "id": "a0009282",
   "metadata": {},
   "source": [
    "# sign board detection"
   ]
  },
  {
   "cell_type": "code",
   "execution_count": 15,
   "id": "ebfe4696",
   "metadata": {},
   "outputs": [],
   "source": [
    "img_path = r\"C:\\Users\\photos\\desert-1845318_1920.jpg\"\n",
    "\n",
    "img = cv2.imread(img_path)\n",
    "img = cv2.resize(img, (1280, 720))\n",
    "\n",
    "img_copy = np.copy(img)\n",
    "\n",
    "img_copy[(img_copy[:, :, 0] > 50) | (img_copy[:, :, 1] < 150) | (img_copy[:, :, 2] < 150)] = 0  # green or red ko milake yellow bnta h .\n",
    "\n",
    "\n",
    "img_2 = np.hstack((cv2.resize(img, (650, 500)), cv2.resize(img_copy, (650, 500))))\n",
    "cv2.imshow(\"Yellow Road Image\", img_2)\n",
    "\n",
    "cv2.waitKey(0)\n",
    "cv2.destroyAllWindows()"
   ]
  },
  {
   "cell_type": "markdown",
   "id": "a3ce482e",
   "metadata": {},
   "source": [
    "# Red color pixels extraction"
   ]
  },
  {
   "cell_type": "code",
   "execution_count": 17,
   "id": "13903cf2",
   "metadata": {},
   "outputs": [],
   "source": [
    "img_path = r\"C:\\Users\\photos\\light-trails-659415_1920.jpg\"\n",
    "\n",
    "img = cv2.imread(img_path)\n",
    "img = cv2.resize(img, (1280, 720))\n",
    "\n",
    "img_copy = np.copy(img)\n",
    "\n",
    "img_copy[(img_copy[:, :, 0] > 50) | (img_copy[:, :, 1] > 50) | (img_copy[:, :, 2] < 90)] = 0  # green or red ko milake yellow bnta h .\n",
    "\n",
    "\n",
    "img_2 = np.hstack((cv2.resize(img, (650, 500)), cv2.resize(img_copy, (650, 500))))\n",
    "cv2.imshow(\"color Image vs Color Extracted Image\", img_2)\n",
    "\n",
    "cv2.waitKey(0)\n",
    "cv2.destroyAllWindows()"
   ]
  },
  {
   "cell_type": "markdown",
   "id": "182c7506",
   "metadata": {},
   "source": [
    "# Yellow color pixels extration"
   ]
  },
  {
   "cell_type": "code",
   "execution_count": 25,
   "id": "9766ea83",
   "metadata": {},
   "outputs": [],
   "source": [
    "img_path = r\"C:\\Users\\photos\\street-351481_1920.jpg\"\n",
    "\n",
    "img = cv2.imread(img_path)\n",
    "img = cv2.resize(img, (1280, 720))\n",
    "\n",
    "img_copy = np.copy(img)\n",
    "\n",
    "img_copy[(img_copy[:, :, 0] > 50) | (img_copy[:, :, 1] < 50) | (img_copy[:, :, 2] < 50)] = 0  # green or red ko milake yellow bnta h .\n",
    "\n",
    "\n",
    "cv2.imshow(\"Yellow Road Image\", img_copy)\n",
    "\n",
    "cv2.waitKey(0)\n",
    "cv2.destroyAllWindows()"
   ]
  },
  {
   "cell_type": "markdown",
   "id": "ea929d4d",
   "metadata": {},
   "source": [
    "# Human detection"
   ]
  },
  {
   "cell_type": "code",
   "execution_count": 27,
   "id": "f4023e35",
   "metadata": {},
   "outputs": [],
   "source": [
    "img_path = r\"C:\\Users\\photos\\mother-429158_1920.jpg\"\n",
    "\n",
    "img = cv2.imread(img_path)\n",
    "img = cv2.resize(img, (1280, 720))\n",
    "\n",
    "img_copy = np.copy(img)\n",
    "\n",
    "img_copy[(img_copy[:, :, 0] > 90) | (img_copy[:, :, 1] > 90) | (img_copy[:, :, 2] > 90)] = 255 \n",
    "\n",
    "\n",
    "img_2 = np.hstack((cv2.resize(img, (650, 500)), cv2.resize(img_copy, (650, 500))))\n",
    "cv2.imshow(\"Yellow Road Image\", img_2)\n",
    "\n",
    "cv2.waitKey(0)\n",
    "cv2.destroyAllWindows()"
   ]
  },
  {
   "cell_type": "code",
   "execution_count": null,
   "id": "103f2a99",
   "metadata": {},
   "outputs": [],
   "source": []
  }
 ],
 "metadata": {
  "kernelspec": {
   "display_name": "Python 3",
   "language": "python",
   "name": "python3"
  },
  "language_info": {
   "codemirror_mode": {
    "name": "ipython",
    "version": 3
   },
   "file_extension": ".py",
   "mimetype": "text/x-python",
   "name": "python",
   "nbconvert_exporter": "python",
   "pygments_lexer": "ipython3",
   "version": "3.7.11"
  }
 },
 "nbformat": 4,
 "nbformat_minor": 5
}
