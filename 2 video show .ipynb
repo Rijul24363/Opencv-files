{
 "cells": [
  {
   "cell_type": "code",
   "execution_count": 1,
   "id": "642a783e",
   "metadata": {},
   "outputs": [],
   "source": [
    "import numpy as np\n",
    "import cv2"
   ]
  },
  {
   "cell_type": "code",
   "execution_count": 2,
   "id": "823d5e48",
   "metadata": {},
   "outputs": [],
   "source": [
    "video_path1 = r'C:\\Users\\videos\\Amapola - 66575.mp4'  #it will take mp4 only.\n",
    "video_path2 = r'C:\\Users\\videos\\Mountains - 61818.mp4'\n",
    "video_path3 = r'C:\\Users\\videos\\Fish - 82717.mp4'"
   ]
  },
  {
   "cell_type": "code",
   "execution_count": 3,
   "id": "a0906c8f",
   "metadata": {},
   "outputs": [],
   "source": [
    "#this code will show video 1time\n",
    "cap = cv2.VideoCapture(video_path3)\n",
    "\n",
    "while cap.isOpened():\n",
    "    ret, frame = cap.read()\n",
    "    if ret:\n",
    "        image = cv2.resize(frame, (1280,720))\n",
    "        cv2.imshow(\"Video Player\", image)\n",
    "\n",
    "        if cv2.waitKey(1) & 0xff == ord('q'):\n",
    "            break\n",
    "            \n",
    "    else:\n",
    "        break\n",
    "            \n",
    "            \n",
    "cap.release()\n",
    "cv2.destroyAllWindows()"
   ]
  },
  {
   "cell_type": "code",
   "execution_count": 4,
   "id": "1f171dbe",
   "metadata": {},
   "outputs": [],
   "source": [
    "# this code will show one video 4 times at a tym.\n",
    "cap = cv2.VideoCapture(video_path1)\n",
    "\n",
    "while cap.isOpened():\n",
    "    ret, frame = cap.read()\n",
    "    if ret:\n",
    "        frame = cv2.resize(frame, (600,400))\n",
    "        \n",
    "        frame_2 = np.hstack((frame, frame))\n",
    "        frame_4 = np.vstack((frame_2, frame_2))\n",
    "        \n",
    "        cv2.imshow(\"Video Player\", frame_4)\n",
    "\n",
    "        if cv2.waitKey(25) & 0xff == ord('q'):\n",
    "            break\n",
    "            \n",
    "    else:\n",
    "        break\n",
    "            \n",
    "cap.release()\n",
    "cv2.destroyAllWindows()"
   ]
  },
  {
   "cell_type": "raw",
   "id": "d94c87bd",
   "metadata": {},
   "source": [
    "#this code is for 4 things at a time.\n",
    "path = r\"\"\"C:\\Users\\photos\"\"\"\n",
    "img_name = \"man-1246028_1920.jpg\"\n",
    "\n",
    "cap1 = cv2.VideoCapture(video_path1)\n",
    "cap2 = cv2.VideoCapture(video_path2)\n",
    "cap3 = cv2.VideoCapture(0)\n",
    "\n",
    "while cap1.isOpened():\n",
    "    ret1, frame = cap1.read()\n",
    "    ret2, frame2 = cap2.read()\n",
    "    ret3, c_frame = cap3.read()\n",
    "    if ret1:\n",
    "        frame1 = cv2.resize(frame,(600, 400))\n",
    "        frame2 = cv2.resize(frame2,(600, 400))\n",
    "        \n",
    "        camera_frame = cv2.resize(c_frame, (600, 400))\n",
    "        \n",
    "        image = cv2.imread(path +'\\\\'+img_name)\n",
    "        image = cv2.resize(image, (600, 400))\n",
    "        \n",
    "        frame_2 = np.hstack((frame1, frame2))\n",
    "        frame_02 = np.hstack((camera_frame, image))\n",
    "        frame_4 = np.vstack((frame_2, frame_02))\n",
    "        \n",
    "        cv2.imshow(\"Video Player\", frame_4)\n",
    "        \n",
    "        if cv2.waitKey(2500) & 0xff == ord('q'):\n",
    "            break\n",
    "        else:\n",
    "            break\n",
    "            \n",
    "cap1.release()\n",
    "cv2.destroyAllWindows()"
   ]
  },
  {
   "cell_type": "code",
   "execution_count": null,
   "id": "8cb081b6",
   "metadata": {},
   "outputs": [],
   "source": []
  },
  {
   "cell_type": "code",
   "execution_count": null,
   "id": "d10ae95c",
   "metadata": {},
   "outputs": [],
   "source": []
  }
 ],
 "metadata": {
  "kernelspec": {
   "display_name": "Python 3",
   "language": "python",
   "name": "python3"
  },
  "language_info": {
   "codemirror_mode": {
    "name": "ipython",
    "version": 3
   },
   "file_extension": ".py",
   "mimetype": "text/x-python",
   "name": "python",
   "nbconvert_exporter": "python",
   "pygments_lexer": "ipython3",
   "version": "3.7.11"
  }
 },
 "nbformat": 4,
 "nbformat_minor": 5
}
